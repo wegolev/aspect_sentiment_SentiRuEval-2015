{
 "cells": [
  {
   "cell_type": "markdown",
   "metadata": {},
   "source": [
    "# Аспектный анализ тональности текстов"
   ]
  },
  {
   "cell_type": "markdown",
   "metadata": {},
   "source": [
    "* [1] https://github.com/nlpub/pymystem3\n",
    "* [2] SentiRuEval2015\n",
    "* [3] https://rusvectores.org/ru/models/"
   ]
  },
  {
   "cell_type": "code",
   "execution_count": 1,
   "metadata": {},
   "outputs": [],
   "source": [
    "# Если Вы запускаете ноутбук на colab или kaggle,\n",
    "# выполните следующие строчки, чтобы подгрузить библиотеку dlnlputils:\n",
    "\n",
    "# !git clone https://github.com/wegolev/aspect_sentiment_SentiRuEval-2015.git\n",
    "# !pip install -r aspect_sentiment_SentiRuEval-2015/requirements.txt\n",
    "# import sys; sys.path.append('./aspect_sentiment_SentiRuEval-2015')"
   ]
  },
  {
   "cell_type": "code",
   "execution_count": 2,
   "metadata": {},
   "outputs": [
    {
     "data": {
      "text/plain": [
       "<torch._C.Generator at 0x7f4e7aa11df0>"
      ]
     },
     "execution_count": 2,
     "metadata": {},
     "output_type": "execute_result"
    }
   ],
   "source": [
    "import torch\n",
    "import torch.nn as nn\n",
    "import torch.nn.functional as F\n",
    "import torch.optim as optim\n",
    "\n",
    "import random\n",
    "import numpy as np\n",
    "import matplotlib.pyplot as plt\n",
    "%matplotlib inline\n",
    "\n",
    "torch.manual_seed(1)"
   ]
  },
  {
   "cell_type": "markdown",
   "metadata": {},
   "source": [
    "Установка \"нормальной\" подсветки"
   ]
  },
  {
   "cell_type": "code",
   "execution_count": 3,
   "metadata": {},
   "outputs": [],
   "source": [
    "from ipymarkup.palette import material, BLUE, RED, GREEN, PURPLE, BROWN, ORANGE\n",
    "\n",
    "colors = BLUE, RED, GREEN, PURPLE, BROWN, ORANGE\n",
    "\n",
    "for c in colors:\n",
    "    color_name = c.name[0].capitalize() + c.name[1:]\n",
    "    c.background = material(color_name, '900')"
   ]
  },
  {
   "cell_type": "markdown",
   "metadata": {},
   "source": [
    "## Оригинальная разметка"
   ]
  },
  {
   "cell_type": "code",
   "execution_count": 4,
   "metadata": {},
   "outputs": [],
   "source": [
    "# Если Вы запускаете ноутбук на colab или kaggle, добавьте в начало пути ./aspect_sentiment_SentiRuEval-2015\n",
    "xml_sentiments = 'datasets/SentiRuEval_car_markup_train.xml'"
   ]
  },
  {
   "cell_type": "code",
   "execution_count": 62,
   "metadata": {},
   "outputs": [],
   "source": [
    "from dlnlputils.sentiment_utils import parse_xml_sentiment, parse_xml_aspect, show_markup"
   ]
  },
  {
   "cell_type": "markdown",
   "metadata": {},
   "source": [
    "тексты с разметкой аспектов и тональностей: "
   ]
  },
  {
   "cell_type": "code",
   "execution_count": 6,
   "metadata": {},
   "outputs": [],
   "source": [
    "texts_w_sentiment_spans = parse_xml_sentiment(xml_sentiments)\n",
    "texts_w_aspect_spans    = parse_xml_aspect(xml_sentiments)"
   ]
  },
  {
   "cell_type": "code",
   "execution_count": 7,
   "metadata": {},
   "outputs": [
    {
     "name": "stdout",
     "output_type": "stream",
     "text": [
      "Загружено 217 текстов с разметкой тональности\n",
      "\n"
     ]
    }
   ],
   "source": [
    "amount = len(texts_w_sentiment_spans)\n",
    "\n",
    "print('Загружено {} текстов с разметкой тональности\\n'.format(amount))"
   ]
  },
  {
   "cell_type": "markdown",
   "metadata": {},
   "source": [
    "##### выберем 2 текста, на которых будем рассматривать все примеры:"
   ]
  },
  {
   "cell_type": "code",
   "execution_count": 8,
   "metadata": {},
   "outputs": [],
   "source": [
    "random_picks = [random.randint(0,amount-1) for _ in range(0,2)]"
   ]
  },
  {
   "cell_type": "markdown",
   "metadata": {},
   "source": [
    "####  тональность (sentiment)"
   ]
  },
  {
   "cell_type": "code",
   "execution_count": 9,
   "metadata": {
    "scrolled": true
   },
   "outputs": [
    {
     "name": "stdout",
     "output_type": "stream",
     "text": [
      "Текст №: 32\n"
     ]
    },
    {
     "data": {
      "text/html": [
       "<div class=\"tex2jax_ignore\" style=\"white-space: pre-wrap\">Купили <span style=\"padding: 2px; border-radius: 4px; border: 1px solid #ffe0b2; background: #e65100\">Сузуки Лиану<span style=\"vertical-align: middle; margin-left: 2px; font-size: 0.7em; color: #ffb74d;\">neutral</span></span> 2003 года. По сравнению с предыдущим опытом владения <span style=\"padding: 2px; border-radius: 4px; border: 1px solid #c8e6c9; background: #1b5e20\">Сузуки<span style=\"vertical-align: middle; margin-left: 2px; font-size: 0.7em; color: #66bb6a;\">positive</span></span>, впечатления только(пока)положительные. <span style=\"padding: 2px; border-radius: 4px; border: 1px solid #c8e6c9; background: #1b5e20\">Мягкая подвеска<span style=\"vertical-align: middle; margin-left: 2px; font-size: 0.7em; color: #66bb6a;\">positive</span></span>, хороший - <span style=\"padding: 2px; border-radius: 4px; border: 1px solid #c8e6c9; background: #1b5e20\">комфортный<span style=\"vertical-align: middle; margin-left: 2px; font-size: 0.7em; color: #66bb6a;\">positive</span></span> <span style=\"padding: 2px; border-radius: 4px; border: 1px solid #c8e6c9; background: #1b5e20\">салон<span style=\"vertical-align: middle; margin-left: 2px; font-size: 0.7em; color: #66bb6a;\">positive</span></span>, достаточно большой <span style=\"padding: 2px; border-radius: 4px; border: 1px solid #c8e6c9; background: #1b5e20\">багажник<span style=\"vertical-align: middle; margin-left: 2px; font-size: 0.7em; color: #66bb6a;\">positive</span></span>. Правда эта машина <span style=\"padding: 2px; border-radius: 4px; border: 1px solid #ffe0b2; background: #e65100\">механика<span style=\"vertical-align: middle; margin-left: 2px; font-size: 0.7em; color: #ffb74d;\">neutral</span></span>. Пока не исправности не были замечены, последнее время правда <span style=\"padding: 2px; border-radius: 4px; border: 1px solid #ffcdd2; background: #b71c1c\">скорость<span style=\"vertical-align: middle; margin-left: 2px; font-size: 0.7em; color: #e57373;\">negative</span></span> <span style=\"padding: 2px; border-radius: 4px; border: 1px solid #ffcdd2; background: #b71c1c\">переключается рывками<span style=\"vertical-align: middle; margin-left: 2px; font-size: 0.7em; color: #e57373;\">negative</span></span>. нужно ехать на диагностику. Достаточно хороший <span style=\"padding: 2px; border-radius: 4px; border: 1px solid #c8e6c9; background: #1b5e20\">встроенный мультимедийный плеер<span style=\"vertical-align: middle; margin-left: 2px; font-size: 0.7em; color: #66bb6a;\">positive</span></span>, <span style=\"padding: 2px; border-radius: 4px; border: 1px solid #c8e6c9; background: #1b5e20\">колонки<span style=\"vertical-align: middle; margin-left: 2px; font-size: 0.7em; color: #66bb6a;\">positive</span></span> по всему салону. <span style=\"padding: 2px; border-radius: 4px; border: 1px solid #c8e6c9; background: #1b5e20\">Клиренс<span style=\"vertical-align: middle; margin-left: 2px; font-size: 0.7em; color: #66bb6a;\">positive</span></span> не низкий. Единственный минус вспомнила я)<span style=\"padding: 2px; border-radius: 4px; border: 1px solid #ffcdd2; background: #b71c1c\">Шумоизоляция<span style=\"vertical-align: middle; margin-left: 2px; font-size: 0.7em; color: #e57373;\">negative</span></span> ни какая-по автобану едешь когда приходиться включать музыку на всю мощность. Иначе начинает от <span style=\"padding: 2px; border-radius: 4px; border: 1px solid #ffcdd2; background: #b71c1c\">шума<span style=\"vertical-align: middle; margin-left: 2px; font-size: 0.7em; color: #e57373;\">negative</span></span> закладывать уши. <span style=\"padding: 2px; border-radius: 4px; border: 1px solid #c8e6c9; background: #1b5e20\">Скорость<span style=\"vertical-align: middle; margin-left: 2px; font-size: 0.7em; color: #66bb6a;\">positive</span></span> развивает достаточно хорошо, <span style=\"padding: 2px; border-radius: 4px; border: 1px solid #ffe0b2; background: #e65100\">объем двигателя<span style=\"vertical-align: middle; margin-left: 2px; font-size: 0.7em; color: #ffb74d;\">neutral</span></span> 1,6. </div>"
      ],
      "text/plain": [
       "<IPython.core.display.HTML object>"
      ]
     },
     "metadata": {},
     "output_type": "display_data"
    },
    {
     "name": "stdout",
     "output_type": "stream",
     "text": [
      "Текст №: 139\n"
     ]
    },
    {
     "data": {
      "text/html": [
       "<div class=\"tex2jax_ignore\" style=\"white-space: pre-wrap\">Этот <span style=\"padding: 2px; border-radius: 4px; border: 1px solid #c8e6c9; background: #1b5e20\">автомобиль<span style=\"vertical-align: middle; margin-left: 2px; font-size: 0.7em; color: #66bb6a;\">positive</span></span>, является фаворитом среди <span style=\"padding: 2px; border-radius: 4px; border: 1px solid #c8e6c9; background: #1b5e20\">легковых седанов<span style=\"vertical-align: middle; margin-left: 2px; font-size: 0.7em; color: #66bb6a;\">positive</span></span>. Один из самых <span style=\"padding: 2px; border-radius: 4px; border: 1px solid #c8e6c9; background: #1b5e20\">мягких<span style=\"vertical-align: middle; margin-left: 2px; font-size: 0.7em; color: #66bb6a;\">positive</span></span> и <span style=\"padding: 2px; border-radius: 4px; border: 1px solid #c8e6c9; background: #1b5e20\">маневренных<span style=\"vertical-align: middle; margin-left: 2px; font-size: 0.7em; color: #66bb6a;\">positive</span></span> <span style=\"padding: 2px; border-radius: 4px; border: 1px solid #c8e6c9; background: #1b5e20\">автомобилей<span style=\"vertical-align: middle; margin-left: 2px; font-size: 0.7em; color: #66bb6a;\">positive</span></span> этого концепта. Да еще и <span style=\"padding: 2px; border-radius: 4px; border: 1px solid #c8e6c9; background: #1b5e20\">красивый<span style=\"vertical-align: middle; margin-left: 2px; font-size: 0.7em; color: #66bb6a;\">positive</span></span> <span style=\"padding: 2px; border-radius: 4px; border: 1px solid #c8e6c9; background: #1b5e20\">дизайн<span style=\"vertical-align: middle; margin-left: 2px; font-size: 0.7em; color: #66bb6a;\">positive</span></span>. В общем в нем одни плюсы. Не жалуюсь! </div>"
      ],
      "text/plain": [
       "<IPython.core.display.HTML object>"
      ]
     },
     "metadata": {},
     "output_type": "display_data"
    }
   ],
   "source": [
    "for rand_i in random_picks:\n",
    "    text, spans = texts_w_sentiment_spans[rand_i]\n",
    "    \n",
    "    print('Текст №:',rand_i)\n",
    "    show_markup(text,spans)"
   ]
  },
  {
   "cell_type": "markdown",
   "metadata": {},
   "source": [
    "####  Аспекты (aspects)"
   ]
  },
  {
   "cell_type": "code",
   "execution_count": 10,
   "metadata": {
    "scrolled": true
   },
   "outputs": [
    {
     "name": "stdout",
     "output_type": "stream",
     "text": [
      "Текст №: 32\n"
     ]
    },
    {
     "data": {
      "text/html": [
       "<div class=\"tex2jax_ignore\" style=\"white-space: pre-wrap\">Купили <span style=\"padding: 2px; border-radius: 4px; border: 1px solid #ffcdd2; background: #b71c1c\">Сузуки Лиану<span style=\"vertical-align: middle; margin-left: 2px; font-size: 0.7em; color: #e57373;\">Whole</span></span> 2003 года. По сравнению с предыдущим опытом владения <span style=\"padding: 2px; border-radius: 4px; border: 1px solid #ffcdd2; background: #b71c1c\">Сузуки<span style=\"vertical-align: middle; margin-left: 2px; font-size: 0.7em; color: #e57373;\">Whole</span></span>, впечатления только(пока)положительные. <span style=\"padding: 2px; border-radius: 4px; border: 1px solid #bbdefb; background: #0d47a1\">Мягкая подвеска<span style=\"vertical-align: middle; margin-left: 2px; font-size: 0.7em; color: #64b5f6;\">Driveability</span></span>, хороший - <span style=\"padding: 2px; border-radius: 4px; border: 1px solid #ffe0b2; background: #e65100\">комфортный<span style=\"vertical-align: middle; margin-left: 2px; font-size: 0.7em; color: #ffb74d;\">Comfort</span></span> <span style=\"padding: 2px; border-radius: 4px; border: 1px solid #ffe0b2; background: #e65100\">салон<span style=\"vertical-align: middle; margin-left: 2px; font-size: 0.7em; color: #ffb74d;\">Comfort</span></span>, достаточно большой <span style=\"padding: 2px; border-radius: 4px; border: 1px solid #ffe0b2; background: #e65100\">багажник<span style=\"vertical-align: middle; margin-left: 2px; font-size: 0.7em; color: #ffb74d;\">Comfort</span></span>. Правда эта машина <span style=\"padding: 2px; border-radius: 4px; border: 1px solid #bbdefb; background: #0d47a1\">механика<span style=\"vertical-align: middle; margin-left: 2px; font-size: 0.7em; color: #64b5f6;\">Driveability</span></span>. Пока не исправности не были замечены, последнее время правда <span style=\"padding: 2px; border-radius: 4px; border: 1px solid #bbdefb; background: #0d47a1\">скорость<span style=\"vertical-align: middle; margin-left: 2px; font-size: 0.7em; color: #64b5f6;\">Driveability</span></span> <span style=\"padding: 2px; border-radius: 4px; border: 1px solid #bbdefb; background: #0d47a1\">переключается рывками<span style=\"vertical-align: middle; margin-left: 2px; font-size: 0.7em; color: #64b5f6;\">Driveability</span></span>. нужно ехать на диагностику. Достаточно хороший <span style=\"padding: 2px; border-radius: 4px; border: 1px solid #ffe0b2; background: #e65100\">встроенный мультимедийный плеер<span style=\"vertical-align: middle; margin-left: 2px; font-size: 0.7em; color: #ffb74d;\">Comfort</span></span>, <span style=\"padding: 2px; border-radius: 4px; border: 1px solid #ffe0b2; background: #e65100\">колонки<span style=\"vertical-align: middle; margin-left: 2px; font-size: 0.7em; color: #ffb74d;\">Comfort</span></span> по всему салону. <span style=\"padding: 2px; border-radius: 4px; border: 1px solid #bbdefb; background: #0d47a1\">Клиренс<span style=\"vertical-align: middle; margin-left: 2px; font-size: 0.7em; color: #64b5f6;\">Driveability</span></span> не низкий. Единственный минус вспомнила я)<span style=\"padding: 2px; border-radius: 4px; border: 1px solid #ffe0b2; background: #e65100\">Шумоизоляция<span style=\"vertical-align: middle; margin-left: 2px; font-size: 0.7em; color: #ffb74d;\">Comfort</span></span> ни какая-по автобану едешь когда приходиться включать музыку на всю мощность. Иначе начинает от <span style=\"padding: 2px; border-radius: 4px; border: 1px solid #ffe0b2; background: #e65100\">шума<span style=\"vertical-align: middle; margin-left: 2px; font-size: 0.7em; color: #ffb74d;\">Comfort</span></span> закладывать уши. <span style=\"padding: 2px; border-radius: 4px; border: 1px solid #bbdefb; background: #0d47a1\">Скорость<span style=\"vertical-align: middle; margin-left: 2px; font-size: 0.7em; color: #64b5f6;\">Driveability</span></span> развивает достаточно хорошо, <span style=\"padding: 2px; border-radius: 4px; border: 1px solid #bbdefb; background: #0d47a1\">объем двигателя<span style=\"vertical-align: middle; margin-left: 2px; font-size: 0.7em; color: #64b5f6;\">Driveability</span></span> 1,6. </div>"
      ],
      "text/plain": [
       "<IPython.core.display.HTML object>"
      ]
     },
     "metadata": {},
     "output_type": "display_data"
    },
    {
     "name": "stdout",
     "output_type": "stream",
     "text": [
      "Текст №: 139\n"
     ]
    },
    {
     "data": {
      "text/html": [
       "<div class=\"tex2jax_ignore\" style=\"white-space: pre-wrap\">Этот <span style=\"padding: 2px; border-radius: 4px; border: 1px solid #ffcdd2; background: #b71c1c\">автомобиль<span style=\"vertical-align: middle; margin-left: 2px; font-size: 0.7em; color: #e57373;\">Whole</span></span>, является фаворитом среди <span style=\"padding: 2px; border-radius: 4px; border: 1px solid #ffcdd2; background: #b71c1c\">легковых седанов<span style=\"vertical-align: middle; margin-left: 2px; font-size: 0.7em; color: #e57373;\">Whole</span></span>. Один из самых <span style=\"padding: 2px; border-radius: 4px; border: 1px solid #bbdefb; background: #0d47a1\">мягких<span style=\"vertical-align: middle; margin-left: 2px; font-size: 0.7em; color: #64b5f6;\">Driveability</span></span> и <span style=\"padding: 2px; border-radius: 4px; border: 1px solid #bbdefb; background: #0d47a1\">маневренных<span style=\"vertical-align: middle; margin-left: 2px; font-size: 0.7em; color: #64b5f6;\">Driveability</span></span> <span style=\"padding: 2px; border-radius: 4px; border: 1px solid #bbdefb; background: #0d47a1\">автомобилей<span style=\"vertical-align: middle; margin-left: 2px; font-size: 0.7em; color: #64b5f6;\">Driveability</span></span> этого концепта. Да еще и <span style=\"padding: 2px; border-radius: 4px; border: 1px solid #bbdefb; background: #0d47a1\">красивый<span style=\"vertical-align: middle; margin-left: 2px; font-size: 0.7em; color: #64b5f6;\">Appearance</span></span> <span style=\"padding: 2px; border-radius: 4px; border: 1px solid #bbdefb; background: #0d47a1\">дизайн<span style=\"vertical-align: middle; margin-left: 2px; font-size: 0.7em; color: #64b5f6;\">Appearance</span></span>. В общем в нем одни плюсы. Не жалуюсь! </div>"
      ],
      "text/plain": [
       "<IPython.core.display.HTML object>"
      ]
     },
     "metadata": {},
     "output_type": "display_data"
    }
   ],
   "source": [
    "for rand_i in random_picks:\n",
    "    text,spans = texts_w_aspect_spans[rand_i]\n",
    "    \n",
    "    print('Текст №:',rand_i)\n",
    "    show_markup(text,spans)"
   ]
  },
  {
   "cell_type": "markdown",
   "metadata": {},
   "source": [
    "## BIO-тэги для обучения модели"
   ]
  },
  {
   "cell_type": "code",
   "execution_count": 63,
   "metadata": {},
   "outputs": [],
   "source": [
    "from dlnlputils.sentiment_utils import fill_gaps, extract_BIO_tagged_tokens"
   ]
  },
  {
   "cell_type": "code",
   "execution_count": 12,
   "metadata": {},
   "outputs": [
    {
     "name": "stdout",
     "output_type": "stream",
     "text": [
      "Полное покрытие разметкой текста №: 32\n"
     ]
    },
    {
     "data": {
      "text/html": [
       "<div class=\"tex2jax_ignore\" style=\"white-space: pre-wrap\"><span style=\"padding: 2px; border-radius: 4px; border: 1px solid #d7ccc8; background: #3e2723\">Купили <span style=\"vertical-align: middle; margin-left: 2px; font-size: 0.7em; color: #a1887f;\">Other</span></span><span style=\"padding: 2px; border-radius: 4px; border: 1px solid #ffcdd2; background: #b71c1c\">Сузуки Лиану<span style=\"vertical-align: middle; margin-left: 2px; font-size: 0.7em; color: #e57373;\">Whole</span></span><span style=\"padding: 2px; border-radius: 4px; border: 1px solid #d7ccc8; background: #3e2723\"> 2003 года. По сравнению с предыдущим опытом владения <span style=\"vertical-align: middle; margin-left: 2px; font-size: 0.7em; color: #a1887f;\">Other</span></span><span style=\"padding: 2px; border-radius: 4px; border: 1px solid #ffcdd2; background: #b71c1c\">Сузуки<span style=\"vertical-align: middle; margin-left: 2px; font-size: 0.7em; color: #e57373;\">Whole</span></span><span style=\"padding: 2px; border-radius: 4px; border: 1px solid #d7ccc8; background: #3e2723\">, впечатления только(пока)положительные. <span style=\"vertical-align: middle; margin-left: 2px; font-size: 0.7em; color: #a1887f;\">Other</span></span><span style=\"padding: 2px; border-radius: 4px; border: 1px solid #bbdefb; background: #0d47a1\">Мягкая подвеска<span style=\"vertical-align: middle; margin-left: 2px; font-size: 0.7em; color: #64b5f6;\">Driveability</span></span><span style=\"padding: 2px; border-radius: 4px; border: 1px solid #d7ccc8; background: #3e2723\">, хороший - <span style=\"vertical-align: middle; margin-left: 2px; font-size: 0.7em; color: #a1887f;\">Other</span></span><span style=\"padding: 2px; border-radius: 4px; border: 1px solid #ffe0b2; background: #e65100\">комфортный<span style=\"vertical-align: middle; margin-left: 2px; font-size: 0.7em; color: #ffb74d;\">Comfort</span></span><span style=\"padding: 2px; border-radius: 4px; border: 1px solid #d7ccc8; background: #3e2723\"> <span style=\"vertical-align: middle; margin-left: 2px; font-size: 0.7em; color: #a1887f;\">Other</span></span><span style=\"padding: 2px; border-radius: 4px; border: 1px solid #ffe0b2; background: #e65100\">салон<span style=\"vertical-align: middle; margin-left: 2px; font-size: 0.7em; color: #ffb74d;\">Comfort</span></span><span style=\"padding: 2px; border-radius: 4px; border: 1px solid #d7ccc8; background: #3e2723\">, достаточно большой <span style=\"vertical-align: middle; margin-left: 2px; font-size: 0.7em; color: #a1887f;\">Other</span></span><span style=\"padding: 2px; border-radius: 4px; border: 1px solid #ffe0b2; background: #e65100\">багажник<span style=\"vertical-align: middle; margin-left: 2px; font-size: 0.7em; color: #ffb74d;\">Comfort</span></span><span style=\"padding: 2px; border-radius: 4px; border: 1px solid #d7ccc8; background: #3e2723\">. Правда эта машина <span style=\"vertical-align: middle; margin-left: 2px; font-size: 0.7em; color: #a1887f;\">Other</span></span><span style=\"padding: 2px; border-radius: 4px; border: 1px solid #bbdefb; background: #0d47a1\">механика<span style=\"vertical-align: middle; margin-left: 2px; font-size: 0.7em; color: #64b5f6;\">Driveability</span></span><span style=\"padding: 2px; border-radius: 4px; border: 1px solid #d7ccc8; background: #3e2723\">. Пока не исправности не были замечены, последнее время правда <span style=\"vertical-align: middle; margin-left: 2px; font-size: 0.7em; color: #a1887f;\">Other</span></span><span style=\"padding: 2px; border-radius: 4px; border: 1px solid #bbdefb; background: #0d47a1\">скорость<span style=\"vertical-align: middle; margin-left: 2px; font-size: 0.7em; color: #64b5f6;\">Driveability</span></span><span style=\"padding: 2px; border-radius: 4px; border: 1px solid #d7ccc8; background: #3e2723\"> <span style=\"vertical-align: middle; margin-left: 2px; font-size: 0.7em; color: #a1887f;\">Other</span></span><span style=\"padding: 2px; border-radius: 4px; border: 1px solid #bbdefb; background: #0d47a1\">переключается рывками<span style=\"vertical-align: middle; margin-left: 2px; font-size: 0.7em; color: #64b5f6;\">Driveability</span></span><span style=\"padding: 2px; border-radius: 4px; border: 1px solid #d7ccc8; background: #3e2723\">. нужно ехать на диагностику. Достаточно хороший <span style=\"vertical-align: middle; margin-left: 2px; font-size: 0.7em; color: #a1887f;\">Other</span></span><span style=\"padding: 2px; border-radius: 4px; border: 1px solid #ffe0b2; background: #e65100\">встроенный мультимедийный плеер<span style=\"vertical-align: middle; margin-left: 2px; font-size: 0.7em; color: #ffb74d;\">Comfort</span></span><span style=\"padding: 2px; border-radius: 4px; border: 1px solid #d7ccc8; background: #3e2723\">, <span style=\"vertical-align: middle; margin-left: 2px; font-size: 0.7em; color: #a1887f;\">Other</span></span><span style=\"padding: 2px; border-radius: 4px; border: 1px solid #ffe0b2; background: #e65100\">колонки<span style=\"vertical-align: middle; margin-left: 2px; font-size: 0.7em; color: #ffb74d;\">Comfort</span></span><span style=\"padding: 2px; border-radius: 4px; border: 1px solid #d7ccc8; background: #3e2723\"> по всему салону. <span style=\"vertical-align: middle; margin-left: 2px; font-size: 0.7em; color: #a1887f;\">Other</span></span><span style=\"padding: 2px; border-radius: 4px; border: 1px solid #bbdefb; background: #0d47a1\">Клиренс<span style=\"vertical-align: middle; margin-left: 2px; font-size: 0.7em; color: #64b5f6;\">Driveability</span></span><span style=\"padding: 2px; border-radius: 4px; border: 1px solid #d7ccc8; background: #3e2723\"> не низкий. Единственный минус вспомнила я)<span style=\"vertical-align: middle; margin-left: 2px; font-size: 0.7em; color: #a1887f;\">Other</span></span><span style=\"padding: 2px; border-radius: 4px; border: 1px solid #ffe0b2; background: #e65100\">Шумоизоляция<span style=\"vertical-align: middle; margin-left: 2px; font-size: 0.7em; color: #ffb74d;\">Comfort</span></span><span style=\"padding: 2px; border-radius: 4px; border: 1px solid #d7ccc8; background: #3e2723\"> ни какая-по автобану едешь когда приходиться включать музыку на всю мощность. Иначе начинает от <span style=\"vertical-align: middle; margin-left: 2px; font-size: 0.7em; color: #a1887f;\">Other</span></span><span style=\"padding: 2px; border-radius: 4px; border: 1px solid #ffe0b2; background: #e65100\">шума<span style=\"vertical-align: middle; margin-left: 2px; font-size: 0.7em; color: #ffb74d;\">Comfort</span></span><span style=\"padding: 2px; border-radius: 4px; border: 1px solid #d7ccc8; background: #3e2723\"> закладывать уши. <span style=\"vertical-align: middle; margin-left: 2px; font-size: 0.7em; color: #a1887f;\">Other</span></span><span style=\"padding: 2px; border-radius: 4px; border: 1px solid #bbdefb; background: #0d47a1\">Скорость<span style=\"vertical-align: middle; margin-left: 2px; font-size: 0.7em; color: #64b5f6;\">Driveability</span></span><span style=\"padding: 2px; border-radius: 4px; border: 1px solid #d7ccc8; background: #3e2723\"> развивает достаточно хорошо, <span style=\"vertical-align: middle; margin-left: 2px; font-size: 0.7em; color: #a1887f;\">Other</span></span><span style=\"padding: 2px; border-radius: 4px; border: 1px solid #bbdefb; background: #0d47a1\">объем двигателя<span style=\"vertical-align: middle; margin-left: 2px; font-size: 0.7em; color: #64b5f6;\">Driveability</span></span><span style=\"padding: 2px; border-radius: 4px; border: 1px solid #d7ccc8; background: #3e2723\"> 1,6. <span style=\"vertical-align: middle; margin-left: 2px; font-size: 0.7em; color: #a1887f;\">Other</span></span></div>"
      ],
      "text/plain": [
       "<IPython.core.display.HTML object>"
      ]
     },
     "metadata": {},
     "output_type": "display_data"
    },
    {
     "name": "stdout",
     "output_type": "stream",
     "text": [
      "Полное покрытие разметкой текста №: 139\n"
     ]
    },
    {
     "data": {
      "text/html": [
       "<div class=\"tex2jax_ignore\" style=\"white-space: pre-wrap\"><span style=\"padding: 2px; border-radius: 4px; border: 1px solid #d7ccc8; background: #3e2723\">Этот <span style=\"vertical-align: middle; margin-left: 2px; font-size: 0.7em; color: #a1887f;\">Other</span></span><span style=\"padding: 2px; border-radius: 4px; border: 1px solid #ffcdd2; background: #b71c1c\">автомобиль<span style=\"vertical-align: middle; margin-left: 2px; font-size: 0.7em; color: #e57373;\">Whole</span></span><span style=\"padding: 2px; border-radius: 4px; border: 1px solid #d7ccc8; background: #3e2723\">, является фаворитом среди <span style=\"vertical-align: middle; margin-left: 2px; font-size: 0.7em; color: #a1887f;\">Other</span></span><span style=\"padding: 2px; border-radius: 4px; border: 1px solid #ffcdd2; background: #b71c1c\">легковых седанов<span style=\"vertical-align: middle; margin-left: 2px; font-size: 0.7em; color: #e57373;\">Whole</span></span><span style=\"padding: 2px; border-radius: 4px; border: 1px solid #d7ccc8; background: #3e2723\">. Один из самых <span style=\"vertical-align: middle; margin-left: 2px; font-size: 0.7em; color: #a1887f;\">Other</span></span><span style=\"padding: 2px; border-radius: 4px; border: 1px solid #bbdefb; background: #0d47a1\">мягких<span style=\"vertical-align: middle; margin-left: 2px; font-size: 0.7em; color: #64b5f6;\">Driveability</span></span><span style=\"padding: 2px; border-radius: 4px; border: 1px solid #d7ccc8; background: #3e2723\"> и <span style=\"vertical-align: middle; margin-left: 2px; font-size: 0.7em; color: #a1887f;\">Other</span></span><span style=\"padding: 2px; border-radius: 4px; border: 1px solid #bbdefb; background: #0d47a1\">маневренных<span style=\"vertical-align: middle; margin-left: 2px; font-size: 0.7em; color: #64b5f6;\">Driveability</span></span><span style=\"padding: 2px; border-radius: 4px; border: 1px solid #d7ccc8; background: #3e2723\"> <span style=\"vertical-align: middle; margin-left: 2px; font-size: 0.7em; color: #a1887f;\">Other</span></span><span style=\"padding: 2px; border-radius: 4px; border: 1px solid #bbdefb; background: #0d47a1\">автомобилей<span style=\"vertical-align: middle; margin-left: 2px; font-size: 0.7em; color: #64b5f6;\">Driveability</span></span><span style=\"padding: 2px; border-radius: 4px; border: 1px solid #d7ccc8; background: #3e2723\"> этого концепта. Да еще и <span style=\"vertical-align: middle; margin-left: 2px; font-size: 0.7em; color: #a1887f;\">Other</span></span><span style=\"padding: 2px; border-radius: 4px; border: 1px solid #bbdefb; background: #0d47a1\">красивый<span style=\"vertical-align: middle; margin-left: 2px; font-size: 0.7em; color: #64b5f6;\">Appearance</span></span><span style=\"padding: 2px; border-radius: 4px; border: 1px solid #d7ccc8; background: #3e2723\"> <span style=\"vertical-align: middle; margin-left: 2px; font-size: 0.7em; color: #a1887f;\">Other</span></span><span style=\"padding: 2px; border-radius: 4px; border: 1px solid #bbdefb; background: #0d47a1\">дизайн<span style=\"vertical-align: middle; margin-left: 2px; font-size: 0.7em; color: #64b5f6;\">Appearance</span></span><span style=\"padding: 2px; border-radius: 4px; border: 1px solid #d7ccc8; background: #3e2723\">. В общем в нем одни плюсы. Не жалуюсь! <span style=\"vertical-align: middle; margin-left: 2px; font-size: 0.7em; color: #a1887f;\">Other</span></span></div>"
      ],
      "text/plain": [
       "<IPython.core.display.HTML object>"
      ]
     },
     "metadata": {},
     "output_type": "display_data"
    }
   ],
   "source": [
    "for rand_i in random_picks:\n",
    "    text, aspect_spans = texts_w_aspect_spans[rand_i]\n",
    "    cover_spans       = fill_gaps(text, aspect_spans)\n",
    "    \n",
    "    print('Полное покрытие разметкой текста №:',rand_i) \n",
    "    show_markup(text, cover_spans)"
   ]
  },
  {
   "cell_type": "markdown",
   "metadata": {},
   "source": [
    "### Разбиение текста на предложения, а предложений - на слова."
   ]
  },
  {
   "cell_type": "code",
   "execution_count": 64,
   "metadata": {},
   "outputs": [],
   "source": [
    "from dlnlputils.sentiment_utils import regex_sentence_detector, sentence_spans,sentence_splitter"
   ]
  },
  {
   "cell_type": "code",
   "execution_count": 15,
   "metadata": {},
   "outputs": [],
   "source": [
    "from nltk.tokenize import RegexpTokenizer\n",
    "\n",
    "word_tokenizer = RegexpTokenizer('\\w+|\\$[\\d\\.]+|\\S+')"
   ]
  },
  {
   "cell_type": "code",
   "execution_count": 16,
   "metadata": {
    "collapsed": true
   },
   "outputs": [
    {
     "name": "stdout",
     "output_type": "stream",
     "text": [
      "Разбиение на предложения и BIO токенизация текста №: 32\n"
     ]
    },
    {
     "data": {
      "text/html": [
       "<div class=\"tex2jax_ignore\" style=\"white-space: pre-wrap\"><span style=\"padding: 2px; border-radius: 4px; border: 1px solid #d7ccc8; background: #3e2723\">Купили <span style=\"vertical-align: middle; margin-left: 2px; font-size: 0.7em; color: #a1887f;\">Other</span></span><span style=\"padding: 2px; border-radius: 4px; border: 1px solid #ffcdd2; background: #b71c1c\">Сузуки Лиану<span style=\"vertical-align: middle; margin-left: 2px; font-size: 0.7em; color: #e57373;\">Whole</span></span><span style=\"padding: 2px; border-radius: 4px; border: 1px solid #d7ccc8; background: #3e2723\"> 2003 года.<span style=\"vertical-align: middle; margin-left: 2px; font-size: 0.7em; color: #a1887f;\">Other</span></span></div>"
      ],
      "text/plain": [
       "<IPython.core.display.HTML object>"
      ]
     },
     "metadata": {},
     "output_type": "display_data"
    },
    {
     "name": "stdout",
     "output_type": "stream",
     "text": [
      "[('Купили', 'Other'), ('Сузуки', 'B-Whole'), ('Лиану', 'I-Whole'), ('2003', 'Other'), ('года', 'Other'), ('.', 'Other')] \n",
      "\n"
     ]
    },
    {
     "data": {
      "text/html": [
       "<div class=\"tex2jax_ignore\" style=\"white-space: pre-wrap\"><span style=\"padding: 2px; border-radius: 4px; border: 1px solid #d7ccc8; background: #3e2723\">По сравнению с предыдущим опытом владения <span style=\"vertical-align: middle; margin-left: 2px; font-size: 0.7em; color: #a1887f;\">Other</span></span><span style=\"padding: 2px; border-radius: 4px; border: 1px solid #ffcdd2; background: #b71c1c\">Сузуки<span style=\"vertical-align: middle; margin-left: 2px; font-size: 0.7em; color: #e57373;\">Whole</span></span><span style=\"padding: 2px; border-radius: 4px; border: 1px solid #d7ccc8; background: #3e2723\">, впечатления только(пока)положительные.<span style=\"vertical-align: middle; margin-left: 2px; font-size: 0.7em; color: #a1887f;\">Other</span></span></div>"
      ],
      "text/plain": [
       "<IPython.core.display.HTML object>"
      ]
     },
     "metadata": {},
     "output_type": "display_data"
    },
    {
     "name": "stdout",
     "output_type": "stream",
     "text": [
      "[('По', 'Other'), ('сравнению', 'Other'), ('с', 'Other'), ('предыдущим', 'Other'), ('опытом', 'Other'), ('владения', 'Other'), ('Сузуки', 'B-Whole'), (',', 'Other'), ('впечатления', 'Other'), ('только', 'Other')] \n",
      "\n"
     ]
    },
    {
     "data": {
      "text/html": [
       "<div class=\"tex2jax_ignore\" style=\"white-space: pre-wrap\"><span style=\"padding: 2px; border-radius: 4px; border: 1px solid #bbdefb; background: #0d47a1\">Мягкая подвеска<span style=\"vertical-align: middle; margin-left: 2px; font-size: 0.7em; color: #64b5f6;\">Driveability</span></span><span style=\"padding: 2px; border-radius: 4px; border: 1px solid #d7ccc8; background: #3e2723\">, хороший - <span style=\"vertical-align: middle; margin-left: 2px; font-size: 0.7em; color: #a1887f;\">Other</span></span><span style=\"padding: 2px; border-radius: 4px; border: 1px solid #ffe0b2; background: #e65100\">комфортный<span style=\"vertical-align: middle; margin-left: 2px; font-size: 0.7em; color: #ffb74d;\">Comfort</span></span><span style=\"padding: 2px; border-radius: 4px; border: 1px solid #d7ccc8; background: #3e2723\"> <span style=\"vertical-align: middle; margin-left: 2px; font-size: 0.7em; color: #a1887f;\">Other</span></span><span style=\"padding: 2px; border-radius: 4px; border: 1px solid #ffe0b2; background: #e65100\">салон<span style=\"vertical-align: middle; margin-left: 2px; font-size: 0.7em; color: #ffb74d;\">Comfort</span></span><span style=\"padding: 2px; border-radius: 4px; border: 1px solid #d7ccc8; background: #3e2723\">, достаточно большой <span style=\"vertical-align: middle; margin-left: 2px; font-size: 0.7em; color: #a1887f;\">Other</span></span><span style=\"padding: 2px; border-radius: 4px; border: 1px solid #ffe0b2; background: #e65100\">багажник<span style=\"vertical-align: middle; margin-left: 2px; font-size: 0.7em; color: #ffb74d;\">Comfort</span></span>.</div>"
      ],
      "text/plain": [
       "<IPython.core.display.HTML object>"
      ]
     },
     "metadata": {},
     "output_type": "display_data"
    },
    {
     "name": "stdout",
     "output_type": "stream",
     "text": [
      "[('Мягкая', 'B-Driveability'), ('подвеска', 'I-Driveability'), (',', 'Other'), ('хороший', 'Other'), ('-', 'Other'), ('комфортный', 'B-Comfort'), ('салон', 'B-Comfort'), (',', 'Other'), ('достаточно', 'Other'), ('большой', 'Other')] \n",
      "\n"
     ]
    },
    {
     "data": {
      "text/html": [
       "<div class=\"tex2jax_ignore\" style=\"white-space: pre-wrap\"><span style=\"padding: 2px; border-radius: 4px; border: 1px solid #d7ccc8; background: #3e2723\">Правда эта машина <span style=\"vertical-align: middle; margin-left: 2px; font-size: 0.7em; color: #a1887f;\">Other</span></span><span style=\"padding: 2px; border-radius: 4px; border: 1px solid #bbdefb; background: #0d47a1\">механика<span style=\"vertical-align: middle; margin-left: 2px; font-size: 0.7em; color: #64b5f6;\">Driveability</span></span>.</div>"
      ],
      "text/plain": [
       "<IPython.core.display.HTML object>"
      ]
     },
     "metadata": {},
     "output_type": "display_data"
    },
    {
     "name": "stdout",
     "output_type": "stream",
     "text": [
      "[('Правда', 'Other'), ('эта', 'Other'), ('машина', 'Other'), ('механика', 'B-Driveability')] \n",
      "\n"
     ]
    },
    {
     "data": {
      "text/html": [
       "<div class=\"tex2jax_ignore\" style=\"white-space: pre-wrap\"><span style=\"padding: 2px; border-radius: 4px; border: 1px solid #d7ccc8; background: #3e2723\">Пока не исправности не были замечены, последнее время правда <span style=\"vertical-align: middle; margin-left: 2px; font-size: 0.7em; color: #a1887f;\">Other</span></span><span style=\"padding: 2px; border-radius: 4px; border: 1px solid #bbdefb; background: #0d47a1\">скорость<span style=\"vertical-align: middle; margin-left: 2px; font-size: 0.7em; color: #64b5f6;\">Driveability</span></span><span style=\"padding: 2px; border-radius: 4px; border: 1px solid #d7ccc8; background: #3e2723\"> <span style=\"vertical-align: middle; margin-left: 2px; font-size: 0.7em; color: #a1887f;\">Other</span></span><span style=\"padding: 2px; border-radius: 4px; border: 1px solid #bbdefb; background: #0d47a1\">переключается рывками<span style=\"vertical-align: middle; margin-left: 2px; font-size: 0.7em; color: #64b5f6;\">Driveability</span></span>.</div>"
      ],
      "text/plain": [
       "<IPython.core.display.HTML object>"
      ]
     },
     "metadata": {},
     "output_type": "display_data"
    },
    {
     "name": "stdout",
     "output_type": "stream",
     "text": [
      "[('Пока', 'Other'), ('не', 'Other'), ('исправности', 'Other'), ('не', 'Other'), ('были', 'Other'), ('замечены', 'Other'), (',', 'Other'), ('последнее', 'Other'), ('время', 'Other'), ('правда', 'Other')] \n",
      "\n"
     ]
    },
    {
     "data": {
      "text/html": [
       "<div class=\"tex2jax_ignore\" style=\"white-space: pre-wrap\"><span style=\"padding: 2px; border-radius: 4px; border: 1px solid #d7ccc8; background: #3e2723\">нужно ехать на диагностику.<span style=\"vertical-align: middle; margin-left: 2px; font-size: 0.7em; color: #a1887f;\">Other</span></span></div>"
      ],
      "text/plain": [
       "<IPython.core.display.HTML object>"
      ]
     },
     "metadata": {},
     "output_type": "display_data"
    },
    {
     "name": "stdout",
     "output_type": "stream",
     "text": [
      "[('нужно', 'Other'), ('ехать', 'Other'), ('на', 'Other'), ('диагностику', 'Other'), ('.', 'Other')] \n",
      "\n"
     ]
    },
    {
     "data": {
      "text/html": [
       "<div class=\"tex2jax_ignore\" style=\"white-space: pre-wrap\"><span style=\"padding: 2px; border-radius: 4px; border: 1px solid #d7ccc8; background: #3e2723\">Достаточно хороший <span style=\"vertical-align: middle; margin-left: 2px; font-size: 0.7em; color: #a1887f;\">Other</span></span><span style=\"padding: 2px; border-radius: 4px; border: 1px solid #ffe0b2; background: #e65100\">встроенный мультимедийный плеер<span style=\"vertical-align: middle; margin-left: 2px; font-size: 0.7em; color: #ffb74d;\">Comfort</span></span><span style=\"padding: 2px; border-radius: 4px; border: 1px solid #d7ccc8; background: #3e2723\">, <span style=\"vertical-align: middle; margin-left: 2px; font-size: 0.7em; color: #a1887f;\">Other</span></span><span style=\"padding: 2px; border-radius: 4px; border: 1px solid #ffe0b2; background: #e65100\">колонки<span style=\"vertical-align: middle; margin-left: 2px; font-size: 0.7em; color: #ffb74d;\">Comfort</span></span><span style=\"padding: 2px; border-radius: 4px; border: 1px solid #d7ccc8; background: #3e2723\"> по всему салону.<span style=\"vertical-align: middle; margin-left: 2px; font-size: 0.7em; color: #a1887f;\">Other</span></span></div>"
      ],
      "text/plain": [
       "<IPython.core.display.HTML object>"
      ]
     },
     "metadata": {},
     "output_type": "display_data"
    },
    {
     "name": "stdout",
     "output_type": "stream",
     "text": [
      "[('Достаточно', 'Other'), ('хороший', 'Other'), ('встроенный', 'B-Comfort'), ('мультимедийный', 'I-Comfort'), ('плеер', 'I-Comfort'), (',', 'Other'), ('колонки', 'B-Comfort'), ('по', 'Other'), ('всему', 'Other'), ('салону', 'Other')] \n",
      "\n"
     ]
    },
    {
     "data": {
      "text/html": [
       "<div class=\"tex2jax_ignore\" style=\"white-space: pre-wrap\"><span style=\"padding: 2px; border-radius: 4px; border: 1px solid #bbdefb; background: #0d47a1\">Клиренс<span style=\"vertical-align: middle; margin-left: 2px; font-size: 0.7em; color: #64b5f6;\">Driveability</span></span><span style=\"padding: 2px; border-radius: 4px; border: 1px solid #d7ccc8; background: #3e2723\"> не низкий.<span style=\"vertical-align: middle; margin-left: 2px; font-size: 0.7em; color: #a1887f;\">Other</span></span></div>"
      ],
      "text/plain": [
       "<IPython.core.display.HTML object>"
      ]
     },
     "metadata": {},
     "output_type": "display_data"
    },
    {
     "name": "stdout",
     "output_type": "stream",
     "text": [
      "[('Клиренс', 'B-Driveability'), ('не', 'Other'), ('низкий', 'Other'), ('.', 'Other')] \n",
      "\n"
     ]
    },
    {
     "data": {
      "text/html": [
       "<div class=\"tex2jax_ignore\" style=\"white-space: pre-wrap\"><span style=\"padding: 2px; border-radius: 4px; border: 1px solid #d7ccc8; background: #3e2723\">Единственный минус вспомнила я)<span style=\"vertical-align: middle; margin-left: 2px; font-size: 0.7em; color: #a1887f;\">Other</span></span><span style=\"padding: 2px; border-radius: 4px; border: 1px solid #ffe0b2; background: #e65100\">Шумоизоляция<span style=\"vertical-align: middle; margin-left: 2px; font-size: 0.7em; color: #ffb74d;\">Comfort</span></span><span style=\"padding: 2px; border-radius: 4px; border: 1px solid #d7ccc8; background: #3e2723\"> ни какая-по автобану едешь когда приходиться включать музыку на всю мощность.<span style=\"vertical-align: middle; margin-left: 2px; font-size: 0.7em; color: #a1887f;\">Other</span></span></div>"
      ],
      "text/plain": [
       "<IPython.core.display.HTML object>"
      ]
     },
     "metadata": {},
     "output_type": "display_data"
    },
    {
     "name": "stdout",
     "output_type": "stream",
     "text": [
      "[('Единственный', 'Other'), ('минус', 'Other'), ('вспомнила', 'Other'), ('я', 'Other'), (')', 'Other'), ('Шумоизоляция', 'B-Comfort'), ('ни', 'Other'), ('какая', 'Other'), ('-по', 'Other'), ('автобану', 'Other')] \n",
      "\n"
     ]
    },
    {
     "data": {
      "text/html": [
       "<div class=\"tex2jax_ignore\" style=\"white-space: pre-wrap\"><span style=\"padding: 2px; border-radius: 4px; border: 1px solid #d7ccc8; background: #3e2723\">Иначе начинает от <span style=\"vertical-align: middle; margin-left: 2px; font-size: 0.7em; color: #a1887f;\">Other</span></span><span style=\"padding: 2px; border-radius: 4px; border: 1px solid #ffe0b2; background: #e65100\">шума<span style=\"vertical-align: middle; margin-left: 2px; font-size: 0.7em; color: #ffb74d;\">Comfort</span></span><span style=\"padding: 2px; border-radius: 4px; border: 1px solid #d7ccc8; background: #3e2723\"> закладывать уши.<span style=\"vertical-align: middle; margin-left: 2px; font-size: 0.7em; color: #a1887f;\">Other</span></span></div>"
      ],
      "text/plain": [
       "<IPython.core.display.HTML object>"
      ]
     },
     "metadata": {},
     "output_type": "display_data"
    },
    {
     "name": "stdout",
     "output_type": "stream",
     "text": [
      "[('Иначе', 'Other'), ('начинает', 'Other'), ('от', 'Other'), ('шума', 'B-Comfort'), ('закладывать', 'Other'), ('уши', 'Other'), ('.', 'Other')] \n",
      "\n"
     ]
    },
    {
     "data": {
      "text/html": [
       "<div class=\"tex2jax_ignore\" style=\"white-space: pre-wrap\"><span style=\"padding: 2px; border-radius: 4px; border: 1px solid #bbdefb; background: #0d47a1\">Скорость<span style=\"vertical-align: middle; margin-left: 2px; font-size: 0.7em; color: #64b5f6;\">Driveability</span></span><span style=\"padding: 2px; border-radius: 4px; border: 1px solid #d7ccc8; background: #3e2723\"> развивает достаточно хорошо, <span style=\"vertical-align: middle; margin-left: 2px; font-size: 0.7em; color: #a1887f;\">Other</span></span><span style=\"padding: 2px; border-radius: 4px; border: 1px solid #bbdefb; background: #0d47a1\">объем двигателя<span style=\"vertical-align: middle; margin-left: 2px; font-size: 0.7em; color: #64b5f6;\">Driveability</span></span><span style=\"padding: 2px; border-radius: 4px; border: 1px solid #d7ccc8; background: #3e2723\"> 1,6.<span style=\"vertical-align: middle; margin-left: 2px; font-size: 0.7em; color: #a1887f;\">Other</span></span></div>"
      ],
      "text/plain": [
       "<IPython.core.display.HTML object>"
      ]
     },
     "metadata": {},
     "output_type": "display_data"
    },
    {
     "name": "stdout",
     "output_type": "stream",
     "text": [
      "[('Скорость', 'B-Driveability'), ('развивает', 'Other'), ('достаточно', 'Other'), ('хорошо', 'Other'), (',', 'Other'), ('объем', 'B-Driveability'), ('двигателя', 'I-Driveability'), ('1', 'Other'), (',6.', 'Other')] \n",
      "\n"
     ]
    },
    {
     "data": {
      "text/html": [
       "<div class=\"tex2jax_ignore\" style=\"white-space: pre-wrap\"></div>"
      ],
      "text/plain": [
       "<IPython.core.display.HTML object>"
      ]
     },
     "metadata": {},
     "output_type": "display_data"
    },
    {
     "name": "stdout",
     "output_type": "stream",
     "text": [
      "[] \n",
      "\n",
      "Разбиение на предложения и BIO токенизация текста №: 139\n"
     ]
    },
    {
     "data": {
      "text/html": [
       "<div class=\"tex2jax_ignore\" style=\"white-space: pre-wrap\"><span style=\"padding: 2px; border-radius: 4px; border: 1px solid #d7ccc8; background: #3e2723\">Этот <span style=\"vertical-align: middle; margin-left: 2px; font-size: 0.7em; color: #a1887f;\">Other</span></span><span style=\"padding: 2px; border-radius: 4px; border: 1px solid #ffcdd2; background: #b71c1c\">автомобиль<span style=\"vertical-align: middle; margin-left: 2px; font-size: 0.7em; color: #e57373;\">Whole</span></span><span style=\"padding: 2px; border-radius: 4px; border: 1px solid #d7ccc8; background: #3e2723\">, является фаворитом среди <span style=\"vertical-align: middle; margin-left: 2px; font-size: 0.7em; color: #a1887f;\">Other</span></span><span style=\"padding: 2px; border-radius: 4px; border: 1px solid #ffcdd2; background: #b71c1c\">легковых седанов<span style=\"vertical-align: middle; margin-left: 2px; font-size: 0.7em; color: #e57373;\">Whole</span></span>.</div>"
      ],
      "text/plain": [
       "<IPython.core.display.HTML object>"
      ]
     },
     "metadata": {},
     "output_type": "display_data"
    },
    {
     "name": "stdout",
     "output_type": "stream",
     "text": [
      "[('Этот', 'Other'), ('автомобиль', 'B-Whole'), (',', 'Other'), ('является', 'Other'), ('фаворитом', 'Other'), ('среди', 'Other'), ('легковых', 'B-Whole'), ('седанов', 'I-Whole')] \n",
      "\n"
     ]
    },
    {
     "data": {
      "text/html": [
       "<div class=\"tex2jax_ignore\" style=\"white-space: pre-wrap\"><span style=\"padding: 2px; border-radius: 4px; border: 1px solid #d7ccc8; background: #3e2723\">Один из самых <span style=\"vertical-align: middle; margin-left: 2px; font-size: 0.7em; color: #a1887f;\">Other</span></span><span style=\"padding: 2px; border-radius: 4px; border: 1px solid #bbdefb; background: #0d47a1\">мягких<span style=\"vertical-align: middle; margin-left: 2px; font-size: 0.7em; color: #64b5f6;\">Driveability</span></span><span style=\"padding: 2px; border-radius: 4px; border: 1px solid #d7ccc8; background: #3e2723\"> и <span style=\"vertical-align: middle; margin-left: 2px; font-size: 0.7em; color: #a1887f;\">Other</span></span><span style=\"padding: 2px; border-radius: 4px; border: 1px solid #bbdefb; background: #0d47a1\">маневренных<span style=\"vertical-align: middle; margin-left: 2px; font-size: 0.7em; color: #64b5f6;\">Driveability</span></span><span style=\"padding: 2px; border-radius: 4px; border: 1px solid #d7ccc8; background: #3e2723\"> <span style=\"vertical-align: middle; margin-left: 2px; font-size: 0.7em; color: #a1887f;\">Other</span></span><span style=\"padding: 2px; border-radius: 4px; border: 1px solid #bbdefb; background: #0d47a1\">автомобилей<span style=\"vertical-align: middle; margin-left: 2px; font-size: 0.7em; color: #64b5f6;\">Driveability</span></span><span style=\"padding: 2px; border-radius: 4px; border: 1px solid #d7ccc8; background: #3e2723\"> этого концепта.<span style=\"vertical-align: middle; margin-left: 2px; font-size: 0.7em; color: #a1887f;\">Other</span></span></div>"
      ],
      "text/plain": [
       "<IPython.core.display.HTML object>"
      ]
     },
     "metadata": {},
     "output_type": "display_data"
    },
    {
     "name": "stdout",
     "output_type": "stream",
     "text": [
      "[('Один', 'Other'), ('из', 'Other'), ('самых', 'Other'), ('мягких', 'B-Driveability'), ('и', 'Other'), ('маневренных', 'B-Driveability'), ('автомобилей', 'B-Driveability'), ('этого', 'Other'), ('концепта', 'Other'), ('.', 'Other')] \n",
      "\n"
     ]
    },
    {
     "data": {
      "text/html": [
       "<div class=\"tex2jax_ignore\" style=\"white-space: pre-wrap\"><span style=\"padding: 2px; border-radius: 4px; border: 1px solid #d7ccc8; background: #3e2723\">Да еще и <span style=\"vertical-align: middle; margin-left: 2px; font-size: 0.7em; color: #a1887f;\">Other</span></span><span style=\"padding: 2px; border-radius: 4px; border: 1px solid #bbdefb; background: #0d47a1\">красивый<span style=\"vertical-align: middle; margin-left: 2px; font-size: 0.7em; color: #64b5f6;\">Appearance</span></span><span style=\"padding: 2px; border-radius: 4px; border: 1px solid #d7ccc8; background: #3e2723\"> <span style=\"vertical-align: middle; margin-left: 2px; font-size: 0.7em; color: #a1887f;\">Other</span></span><span style=\"padding: 2px; border-radius: 4px; border: 1px solid #bbdefb; background: #0d47a1\">дизайн<span style=\"vertical-align: middle; margin-left: 2px; font-size: 0.7em; color: #64b5f6;\">Appearance</span></span>.</div>"
      ],
      "text/plain": [
       "<IPython.core.display.HTML object>"
      ]
     },
     "metadata": {},
     "output_type": "display_data"
    },
    {
     "name": "stdout",
     "output_type": "stream",
     "text": [
      "[('Да', 'Other'), ('еще', 'Other'), ('и', 'Other'), ('красивый', 'B-Appearance'), ('дизайн', 'B-Appearance')] \n",
      "\n"
     ]
    },
    {
     "data": {
      "text/html": [
       "<div class=\"tex2jax_ignore\" style=\"white-space: pre-wrap\"><span style=\"padding: 2px; border-radius: 4px; border: 1px solid #d7ccc8; background: #3e2723\">В общем в нем одни плюсы.<span style=\"vertical-align: middle; margin-left: 2px; font-size: 0.7em; color: #a1887f;\">Other</span></span></div>"
      ],
      "text/plain": [
       "<IPython.core.display.HTML object>"
      ]
     },
     "metadata": {},
     "output_type": "display_data"
    },
    {
     "name": "stdout",
     "output_type": "stream",
     "text": [
      "[('В', 'Other'), ('общем', 'Other'), ('в', 'Other'), ('нем', 'Other'), ('одни', 'Other'), ('плюсы', 'Other'), ('.', 'Other')] \n",
      "\n"
     ]
    },
    {
     "data": {
      "text/html": [
       "<div class=\"tex2jax_ignore\" style=\"white-space: pre-wrap\"><span style=\"padding: 2px; border-radius: 4px; border: 1px solid #d7ccc8; background: #3e2723\">Не жалуюсь! <span style=\"vertical-align: middle; margin-left: 2px; font-size: 0.7em; color: #a1887f;\">Other</span></span></div>"
      ],
      "text/plain": [
       "<IPython.core.display.HTML object>"
      ]
     },
     "metadata": {},
     "output_type": "display_data"
    },
    {
     "name": "stdout",
     "output_type": "stream",
     "text": [
      "[('Не', 'Other'), ('жалуюсь', 'Other'), ('!', 'Other')] \n",
      "\n"
     ]
    }
   ],
   "source": [
    "for rand_i in random_picks:\n",
    "    text, aspect_spans = texts_w_aspect_spans[rand_i]\n",
    "\n",
    "    print('Разбиение на предложения и BIO токенизация текста №:',rand_i) \n",
    "    for sentence, spans in sentence_splitter(text, aspect_spans):\n",
    "\n",
    "        cover_spans      = fill_gaps(sentence,spans)\n",
    "        tokens_w_biotags = extract_BIO_tagged_tokens(sentence, \n",
    "                                                     cover_spans, \n",
    "                                                     word_tokenizer.tokenize)\n",
    "\n",
    "        show_markup(sentence, cover_spans)\n",
    "        print(tokens_w_biotags[:10],'\\n')"
   ]
  },
  {
   "cell_type": "markdown",
   "metadata": {},
   "source": [
    "##  Подготовка данных для обучения: "
   ]
  },
  {
   "cell_type": "code",
   "execution_count": 65,
   "metadata": {},
   "outputs": [],
   "source": [
    "from dlnlputils.sentiment_utils import prepare_data, form_vocabulary_and_tagset"
   ]
  },
  {
   "cell_type": "code",
   "execution_count": 18,
   "metadata": {},
   "outputs": [],
   "source": [
    "# Если Вы запускаете ноутбук на colab или kaggle, добавьте в начало пути ./aspect_sentiment_eval\n",
    "xml_train = 'datasets/SentiRuEval_car_markup_train.xml'\n",
    "xml_test  = 'datasets/SentiRuEval_car_markup_test.xml'"
   ]
  },
  {
   "cell_type": "markdown",
   "metadata": {},
   "source": [
    "### Токенизация: "
   ]
  },
  {
   "cell_type": "code",
   "execution_count": 19,
   "metadata": {},
   "outputs": [],
   "source": [
    "texts_w_aspect_spans = parse_xml_aspect(xml_train)\n",
    "training_data        = prepare_data(texts_w_aspect_spans, word_tokenizer.tokenize)\n",
    "\n",
    "texts_w_aspect_spans = parse_xml_aspect(xml_test)\n",
    "test_data            = prepare_data(texts_w_aspect_spans, word_tokenizer.tokenize)\n"
   ]
  },
  {
   "cell_type": "markdown",
   "metadata": {},
   "source": [
    "#### разбиение на предложения дало нам столько коротких текстов:"
   ]
  },
  {
   "cell_type": "code",
   "execution_count": 20,
   "metadata": {},
   "outputs": [
    {
     "data": {
      "text/plain": [
       "(2210, 1922)"
      ]
     },
     "execution_count": 20,
     "metadata": {},
     "output_type": "execute_result"
    }
   ],
   "source": [
    "len(training_data), len(test_data)"
   ]
  },
  {
   "cell_type": "code",
   "execution_count": 21,
   "metadata": {},
   "outputs": [],
   "source": [
    "all_data = training_data + test_data"
   ]
  },
  {
   "cell_type": "code",
   "execution_count": 22,
   "metadata": {},
   "outputs": [],
   "source": [
    "vocabulary,labels = form_vocabulary_and_tagset(all_data)"
   ]
  },
  {
   "cell_type": "code",
   "execution_count": 23,
   "metadata": {},
   "outputs": [
    {
     "data": {
      "text/plain": [
       "{'B-Appearance',\n",
       " 'B-Comfort',\n",
       " 'B-Costs',\n",
       " 'B-Driveability',\n",
       " 'B-Reliability',\n",
       " 'B-Safety',\n",
       " 'B-Whole',\n",
       " 'I-Appearance',\n",
       " 'I-Comfort',\n",
       " 'I-Costs',\n",
       " 'I-Driveability',\n",
       " 'I-Reliability',\n",
       " 'I-Safety',\n",
       " 'I-Whole',\n",
       " 'Other'}"
      ]
     },
     "execution_count": 23,
     "metadata": {},
     "output_type": "execute_result"
    }
   ],
   "source": [
    "labels"
   ]
  },
  {
   "cell_type": "markdown",
   "metadata": {},
   "source": [
    "#### а размер словаря:"
   ]
  },
  {
   "cell_type": "code",
   "execution_count": 24,
   "metadata": {},
   "outputs": [
    {
     "data": {
      "text/plain": [
       "(11333, 15)"
      ]
     },
     "execution_count": 24,
     "metadata": {},
     "output_type": "execute_result"
    }
   ],
   "source": [
    "len(vocabulary), len(labels)"
   ]
  },
  {
   "cell_type": "markdown",
   "metadata": {},
   "source": [
    "#### индексация:"
   ]
  },
  {
   "cell_type": "code",
   "execution_count": 66,
   "metadata": {},
   "outputs": [],
   "source": [
    "from dlnlputils.sentiment_utils import Converter, generate_markup"
   ]
  },
  {
   "cell_type": "code",
   "execution_count": 26,
   "metadata": {},
   "outputs": [],
   "source": [
    "converter = Converter(vocabulary,labels)"
   ]
  },
  {
   "cell_type": "code",
   "execution_count": 27,
   "metadata": {},
   "outputs": [
    {
     "data": {
      "text/html": [
       "<div class=\"tex2jax_ignore\" style=\"white-space: pre-wrap\"><span style=\"padding: 2px; border-radius: 4px; border: 1px solid #d7ccc8; background: #3e2723\">За первых три года не было<span style=\"vertical-align: middle; margin-left: 2px; font-size: 0.7em; color: #a1887f;\">Other</span></span> <span style=\"padding: 2px; border-radius: 4px; border: 1px solid #c8e6c9; background: #1b5e20\">ни одной поломки<span style=\"vertical-align: middle; margin-left: 2px; font-size: 0.7em; color: #66bb6a;\">Reliability</span></span> <span style=\"padding: 2px; border-radius: 4px; border: 1px solid #d7ccc8; background: #3e2723\">, потом стали проявляться мелкие<span style=\"vertical-align: middle; margin-left: 2px; font-size: 0.7em; color: #a1887f;\">Other</span></span> <span style=\"padding: 2px; border-radius: 4px; border: 1px solid #c8e6c9; background: #1b5e20\">неисправности<span style=\"vertical-align: middle; margin-left: 2px; font-size: 0.7em; color: #66bb6a;\">Reliability</span></span> <span style=\"padding: 2px; border-radius: 4px; border: 1px solid #d7ccc8; background: #3e2723\">:<span style=\"vertical-align: middle; margin-left: 2px; font-size: 0.7em; color: #a1887f;\">Other</span></span> <span style=\"padding: 2px; border-radius: 4px; border: 1px solid #c8e6c9; background: #1b5e20\">подшипник на полуоси<span style=\"vertical-align: middle; margin-left: 2px; font-size: 0.7em; color: #66bb6a;\">Reliability</span></span> <span style=\"padding: 2px; border-radius: 4px; border: 1px solid #d7ccc8; background: #3e2723\">,<span style=\"vertical-align: middle; margin-left: 2px; font-size: 0.7em; color: #a1887f;\">Other</span></span> <span style=\"padding: 2px; border-radius: 4px; border: 1px solid #c8e6c9; background: #1b5e20\">лампочки дальнего ближнего света<span style=\"vertical-align: middle; margin-left: 2px; font-size: 0.7em; color: #66bb6a;\">Reliability</span></span> <span style=\"padding: 2px; border-radius: 4px; border: 1px solid #d7ccc8; background: #3e2723\">,<span style=\"vertical-align: middle; margin-left: 2px; font-size: 0.7em; color: #a1887f;\">Other</span></span> <span style=\"padding: 2px; border-radius: 4px; border: 1px solid #c8e6c9; background: #1b5e20\">крестовины<span style=\"vertical-align: middle; margin-left: 2px; font-size: 0.7em; color: #66bb6a;\">Reliability</span></span> <span style=\"padding: 2px; border-radius: 4px; border: 1px solid #d7ccc8; background: #3e2723\">,<span style=\"vertical-align: middle; margin-left: 2px; font-size: 0.7em; color: #a1887f;\">Other</span></span> <span style=\"padding: 2px; border-radius: 4px; border: 1px solid #c8e6c9; background: #1b5e20\">аккумулятор<span style=\"vertical-align: middle; margin-left: 2px; font-size: 0.7em; color: #66bb6a;\">Reliability</span></span> <span style=\"padding: 2px; border-radius: 4px; border: 1px solid #d7ccc8; background: #3e2723\">,<span style=\"vertical-align: middle; margin-left: 2px; font-size: 0.7em; color: #a1887f;\">Other</span></span> <span style=\"padding: 2px; border-radius: 4px; border: 1px solid #c8e6c9; background: #1b5e20\">свечи<span style=\"vertical-align: middle; margin-left: 2px; font-size: 0.7em; color: #66bb6a;\">Reliability</span></span></div>"
      ],
      "text/plain": [
       "<IPython.core.display.HTML object>"
      ]
     },
     "metadata": {},
     "output_type": "display_data"
    },
    {
     "name": "stdout",
     "output_type": "stream",
     "text": [
      "tensor([ 1395,  7307, 10381,  3591,  6303,  2877,  6524,  6847,  7826,   289,\n",
      "         8063,  9912,  8648,  5768,  6381,   823,  7653,  6064,  7835,   289,\n",
      "         5435,  3739,  2737,  9234,   289,  5331,   289,  2540,   289,  9247])\n",
      "tensor([14, 14, 14, 14, 14, 14,  4, 11, 11, 14, 14, 14, 14, 14,  4, 14,  4, 11,\n",
      "        11, 14,  4, 11, 11, 11, 14,  4, 14,  4, 14,  4])\n",
      "\n"
     ]
    },
    {
     "data": {
      "text/html": [
       "<div class=\"tex2jax_ignore\" style=\"white-space: pre-wrap\"><span style=\"padding: 2px; border-radius: 4px; border: 1px solid #d7ccc8; background: #3e2723\">За первых три года не было<span style=\"vertical-align: middle; margin-left: 2px; font-size: 0.7em; color: #a1887f;\">Other</span></span> <span style=\"padding: 2px; border-radius: 4px; border: 1px solid #c8e6c9; background: #1b5e20\">ни одной поломки<span style=\"vertical-align: middle; margin-left: 2px; font-size: 0.7em; color: #66bb6a;\">Reliability</span></span> <span style=\"padding: 2px; border-radius: 4px; border: 1px solid #d7ccc8; background: #3e2723\">, потом стали проявляться мелкие<span style=\"vertical-align: middle; margin-left: 2px; font-size: 0.7em; color: #a1887f;\">Other</span></span> <span style=\"padding: 2px; border-radius: 4px; border: 1px solid #c8e6c9; background: #1b5e20\">неисправности<span style=\"vertical-align: middle; margin-left: 2px; font-size: 0.7em; color: #66bb6a;\">Reliability</span></span> <span style=\"padding: 2px; border-radius: 4px; border: 1px solid #d7ccc8; background: #3e2723\">:<span style=\"vertical-align: middle; margin-left: 2px; font-size: 0.7em; color: #a1887f;\">Other</span></span> <span style=\"padding: 2px; border-radius: 4px; border: 1px solid #c8e6c9; background: #1b5e20\">подшипник на полуоси<span style=\"vertical-align: middle; margin-left: 2px; font-size: 0.7em; color: #66bb6a;\">Reliability</span></span> <span style=\"padding: 2px; border-radius: 4px; border: 1px solid #d7ccc8; background: #3e2723\">,<span style=\"vertical-align: middle; margin-left: 2px; font-size: 0.7em; color: #a1887f;\">Other</span></span> <span style=\"padding: 2px; border-radius: 4px; border: 1px solid #c8e6c9; background: #1b5e20\">лампочки дальнего ближнего света<span style=\"vertical-align: middle; margin-left: 2px; font-size: 0.7em; color: #66bb6a;\">Reliability</span></span> <span style=\"padding: 2px; border-radius: 4px; border: 1px solid #d7ccc8; background: #3e2723\">,<span style=\"vertical-align: middle; margin-left: 2px; font-size: 0.7em; color: #a1887f;\">Other</span></span> <span style=\"padding: 2px; border-radius: 4px; border: 1px solid #c8e6c9; background: #1b5e20\">крестовины<span style=\"vertical-align: middle; margin-left: 2px; font-size: 0.7em; color: #66bb6a;\">Reliability</span></span> <span style=\"padding: 2px; border-radius: 4px; border: 1px solid #d7ccc8; background: #3e2723\">,<span style=\"vertical-align: middle; margin-left: 2px; font-size: 0.7em; color: #a1887f;\">Other</span></span> <span style=\"padding: 2px; border-radius: 4px; border: 1px solid #c8e6c9; background: #1b5e20\">аккумулятор<span style=\"vertical-align: middle; margin-left: 2px; font-size: 0.7em; color: #66bb6a;\">Reliability</span></span> <span style=\"padding: 2px; border-radius: 4px; border: 1px solid #d7ccc8; background: #3e2723\">,<span style=\"vertical-align: middle; margin-left: 2px; font-size: 0.7em; color: #a1887f;\">Other</span></span> <span style=\"padding: 2px; border-radius: 4px; border: 1px solid #c8e6c9; background: #1b5e20\">свечи<span style=\"vertical-align: middle; margin-left: 2px; font-size: 0.7em; color: #66bb6a;\">Reliability</span></span></div>"
      ],
      "text/plain": [
       "<IPython.core.display.HTML object>"
      ]
     },
     "metadata": {},
     "output_type": "display_data"
    }
   ],
   "source": [
    "test_recipe, test_tags = training_data[1211]\n",
    "\n",
    "text, spans = generate_markup(test_recipe, test_tags) \n",
    "\n",
    "show_markup(text, spans)\n",
    "\n",
    "encoded_recipe = converter.words_to_index(test_recipe)\n",
    "encoded_tags   = converter.tags_to_index(test_tags)\n",
    "\n",
    "print(encoded_recipe)\n",
    "print(encoded_tags)\n",
    "print()\n",
    "\n",
    "decoded_recipe = converter.indices_to_words(encoded_recipe)\n",
    "decoded_tags   = converter.indices_to_tags(encoded_tags)\n",
    "\n",
    "text, spans = generate_markup(decoded_recipe, decoded_tags) \n",
    "\n",
    "show_markup(text, spans)"
   ]
  },
  {
   "cell_type": "markdown",
   "metadata": {},
   "source": [
    "### Нейросети"
   ]
  },
  {
   "cell_type": "code",
   "execution_count": 28,
   "metadata": {},
   "outputs": [],
   "source": [
    "EMBEDDING_DIM = 300\n",
    "HIDDEN_DIM    = 32\n",
    "VOCAB_SIZE    = len(converter.word_to_idx)\n",
    "TAGSET_SIZE   = len(converter.tag_to_idx)"
   ]
  },
  {
   "cell_type": "markdown",
   "metadata": {},
   "source": [
    "###  Предобученные векторы слов\n",
    "\n",
    "Алгоритм fastText обученный на корпусе Тайга, смотрите подробности на сайте: https://rusvectores.org/ru/models/\n"
   ]
  },
  {
   "cell_type": "code",
   "execution_count": 71,
   "metadata": {},
   "outputs": [],
   "source": [
    "# !pip3 install wget"
   ]
  },
  {
   "cell_type": "code",
   "execution_count": 32,
   "metadata": {},
   "outputs": [],
   "source": [
    "# import zipfile\n",
    "import gensim\n",
    "# import wget\n",
    "\n",
    "# model_url = 'http://vectors.nlpl.eu/repository/11/187.zip'\n",
    "# wget.download(model_url)\n",
    "# model_file = 'datasets/' + model_url.split('/')[-1]"
   ]
  },
  {
   "cell_type": "code",
   "execution_count": 33,
   "metadata": {
    "collapsed": true
   },
   "outputs": [
    {
     "name": "stdout",
     "output_type": "stream",
     "text": [
      "жигулёнка 0.7488206028938293\n",
      "ишачка 0.7310285568237305\n",
      "грузовичка 0.7278669476509094\n",
      "жигулёнок 0.7127147912979126\n",
      "жигуленок 0.706432044506073\n",
      "тележка 0.6995413303375244\n",
      "мопед 0.6990943551063538\n",
      "сачка 0.6923120021820068\n",
      "катафалка 0.6904969215393066\n",
      "бричка 0.6855131387710571\n",
      "\n",
      "\n",
      "двигатели 0.9118232131004333\n",
      "гипердвигатель 0.8655393719673157\n",
      "электродвигатель 0.8446590900421143\n",
      "мотор 0.8106048107147217\n",
      "электромотор 0.8067885637283325\n",
      "авиадвигатель 0.7910488843917847\n",
      "движок 0.7793391346931458\n",
      "перводвигатель 0.7768319845199585\n",
      "двигательный 0.7394744157791138\n",
      "турбина 0.7326768636703491\n",
      "\n",
      "\n",
      "bmw 0.7961359620094299\n",
      "бмв 0.7914926409721375\n",
      "аудь 0.7911134958267212\n",
      "тойота 0.7723557353019714\n",
      "мерседес 0.7654416561126709\n",
      "mw 0.7585864067077637\n",
      "bmv 0.7522681951522827\n",
      "форд 0.7281615734100342\n",
      "тойот 0.7268385887145996\n",
      "лексус 0.7258473634719849\n",
      "\n",
      "\n"
     ]
    }
   ],
   "source": [
    "w2v_model = gensim.models.KeyedVectors.load('datasets/187/model.model')\n",
    "\n",
    "words = ['тачка', 'двигатель', 'ауди']\n",
    "\n",
    "for word in words:\n",
    "    #if word in w2v_model:\n",
    "           \n",
    "    for i in w2v_model.most_similar(positive=[word], topn=10):\n",
    "        nearest_word      = i[0]\n",
    "        cosine_similarity = i[1]\n",
    "        print(nearest_word, cosine_similarity)\n",
    "    print('\\n')\n",
    "    \n",
    "    #else: print(word + ' is not present in the model')"
   ]
  },
  {
   "cell_type": "code",
   "execution_count": 34,
   "metadata": {},
   "outputs": [
    {
     "data": {
      "text/plain": [
       "torch.Size([11333, 300])"
      ]
     },
     "execution_count": 34,
     "metadata": {},
     "output_type": "execute_result"
    }
   ],
   "source": [
    "numpy_embeddings = np.zeros(shape=[VOCAB_SIZE, EMBEDDING_DIM],dtype=np.float32)\n",
    "\n",
    "for word in vocabulary:\n",
    "    #if word in w2v_model:\n",
    "    vector = w2v_model.get_vector(word)\n",
    "    index  = converter.words_to_index([word])\n",
    "    numpy_embeddings[index] = vector\n",
    "        \n",
    "    #else: print(word + ' - такого слова нет в модели fasttext')\n",
    "        \n",
    "pretrained_embeddings = torch.FloatTensor(numpy_embeddings)\n",
    "pretrained_embeddings.shape"
   ]
  },
  {
   "cell_type": "markdown",
   "metadata": {},
   "source": [
    "### LSTM \n",
    "\n",
    "1. Использует предобученные вектора слов и не изменяет их\n",
    "2. Двунаправленная"
   ]
  },
  {
   "cell_type": "code",
   "execution_count": 35,
   "metadata": {},
   "outputs": [],
   "source": [
    "class LSTMTagger(nn.Module):\n",
    "\n",
    "    def __init__(self, embedding_dim, hidden_dim, vocab_size, tagset_size, pretrained_embeddings):\n",
    "        super(LSTMTagger, self).__init__()\n",
    "        \n",
    "        self.hidden_dim      = hidden_dim\n",
    "        self.word_embeddings = nn.Embedding.from_pretrained(pretrained_embeddings, freeze=True)\n",
    "        self.lstm            = nn.LSTM(embedding_dim, hidden_dim, bidirectional=True)\n",
    "        self.hidden2tag      = nn.Linear(2*hidden_dim, tagset_size)\n",
    "\n",
    "    def forward(self, words):\n",
    "        embeds      = self.word_embeddings(words)\n",
    "        lstm_out, _ = self.lstm(embeds.view(len(words), 1, -1))\n",
    "        tag_space   = self.hidden2tag(lstm_out.view(len(words), -1))\n",
    "        tag_scores  = F.log_softmax(tag_space, dim=1)\n",
    "        \n",
    "        return tag_scores\n",
    "    \n",
    "    def predict_tags(self, words):\n",
    "        with torch.no_grad():\n",
    "            tags_pred = model(words).numpy()\n",
    "            tags_pred = np.argmax(tags_pred, axis=1)\n",
    "            \n",
    "        return tags_pred"
   ]
  },
  {
   "cell_type": "markdown",
   "metadata": {},
   "source": [
    "### Взвешеная функция потерь"
   ]
  },
  {
   "cell_type": "code",
   "execution_count": 36,
   "metadata": {},
   "outputs": [
    {
     "data": {
      "text/plain": [
       "[('Other', 23529),\n",
       " ('B-Driveability', 1188),\n",
       " ('B-Comfort', 1092),\n",
       " ('I-Driveability', 773),\n",
       " ('B-Reliability', 769),\n",
       " ('B-Whole', 768),\n",
       " ('I-Comfort', 480),\n",
       " ('I-Reliability', 457),\n",
       " ('B-Costs', 392),\n",
       " ('B-Appearance', 354),\n",
       " ('I-Whole', 310),\n",
       " ('I-Costs', 177),\n",
       " ('I-Appearance', 146),\n",
       " ('B-Safety', 87),\n",
       " ('I-Safety', 63)]"
      ]
     },
     "execution_count": 36,
     "metadata": {},
     "output_type": "execute_result"
    }
   ],
   "source": [
    "from collections import Counter\n",
    "\n",
    "tag_counter = Counter()\n",
    "for _,tokens in training_data:\n",
    "    for token in tokens:\n",
    "        tag_counter[token]+=1\n",
    "        \n",
    "tag_counter.most_common()     "
   ]
  },
  {
   "cell_type": "code",
   "execution_count": 37,
   "metadata": {},
   "outputs": [
    {
     "name": "stdout",
     "output_type": "stream",
     "text": [
      "tensor([ 66.7812,  21.6488,  60.3075,  19.8994,  30.7419, 271.7303,  30.7819,\n",
      "        161.9215,  49.2511, 133.5623,  30.5828,  51.7298, 375.2466,  76.2598,\n",
      "          1.0047])\n"
     ]
    }
   ],
   "source": [
    "class_weights = torch.ones(15)\n",
    "class_divs    = torch.ones(15)\n",
    "\n",
    "for tag, inv_weight in tag_counter.most_common():\n",
    "    tag_idx             = converter.tags_to_index([tag])\n",
    "    class_divs[tag_idx] = inv_weight\n",
    "    \n",
    "norm       = torch.norm(class_divs, p=2, dim=0).detach()\n",
    "class_divs = class_divs.div(norm.expand_as(class_divs))\n",
    "\n",
    "\n",
    "class_weights /= class_divs\n",
    "\n",
    "\n",
    "print(class_weights.detach())"
   ]
  },
  {
   "cell_type": "code",
   "execution_count": 38,
   "metadata": {},
   "outputs": [],
   "source": [
    "model         = LSTMTagger(EMBEDDING_DIM, HIDDEN_DIM, VOCAB_SIZE, TAGSET_SIZE, pretrained_embeddings)\n",
    "loss_function = nn.NLLLoss(class_weights) \n",
    "optimizer     = optim.SGD(model.parameters(), lr=0.1)"
   ]
  },
  {
   "cell_type": "markdown",
   "metadata": {},
   "source": [
    "#### training"
   ]
  },
  {
   "cell_type": "code",
   "execution_count": 47,
   "metadata": {
    "scrolled": false
   },
   "outputs": [
    {
     "data": {
      "image/png": "[encoded data removed]",
      "text/plain": [
       "<Figure size 1200x800 with 2 Axes>"
      ]
     },
     "metadata": {},
     "output_type": "display_data"
    },
    {
     "name": "stdout",
     "output_type": "stream",
     "text": [
      "negative log likelihood loss\n",
      "\tnegative log likelihood loss \t (min:    0.006, max:    4.688, cur:    0.850)\n"
     ]
    }
   ],
   "source": [
    "from livelossplot import PlotLosses\n",
    "\n",
    "liveplot = PlotLosses()\n",
    "\n",
    "for epoch in range(5): \n",
    "    for i, (recipe, tags) in enumerate(training_data):\n",
    "        \n",
    "        model.zero_grad()\n",
    "        \n",
    "        encoded_recipe = converter.words_to_index(recipe) # слово -> его номер в словаре \n",
    "        encoded_tags   = converter.tags_to_index(tags)    # тэг   -> его номер в списке тэгов\n",
    "        tag_scores     = model(encoded_recipe)\n",
    "        \n",
    "        loss = loss_function(tag_scores, encoded_tags)\n",
    "        loss.backward()\n",
    "        optimizer.step()\n",
    "        \n",
    "        \n",
    "        if i % 100 == 0:\n",
    "            # liveplot.update({'negative log likelihood loss': loss}) # RuntimeError: Can't call numpy() on Tensor that requires grad. Use tensor.detach().numpy() instead.\n",
    "            liveplot.update({'negative log likelihood loss': loss.detach()}) \n",
    "            liveplot.draw()\n",
    "            "
   ]
  },
  {
   "cell_type": "code",
   "execution_count": 48,
   "metadata": {},
   "outputs": [],
   "source": [
    "def predict_tags(model, converter, recipe):\n",
    "    \n",
    "    encoded_recipe = converter.words_to_index(recipe)        # слово -> его номер в словаре\n",
    "\n",
    "    encoded_tags   = model.predict_tags(encoded_recipe)      # предсказанные тэги (номера)\n",
    "\n",
    "    decoded_tags   = converter.indices_to_tags(encoded_tags) # номер тэга -> тэг\n",
    "    \n",
    "    return decoded_tags"
   ]
  },
  {
   "cell_type": "code",
   "execution_count": 49,
   "metadata": {
    "scrolled": false
   },
   "outputs": [
    {
     "name": "stdout",
     "output_type": "stream",
     "text": [
      "истинные тэги:\n"
     ]
    },
    {
     "data": {
      "text/html": [
       "<div class=\"tex2jax_ignore\" style=\"white-space: pre-wrap\"><span style=\"padding: 2px; border-radius: 4px; border: 1px solid #bbdefb; background: #0d47a1\">Быстро набирает скорость<span style=\"vertical-align: middle; margin-left: 2px; font-size: 0.7em; color: #64b5f6;\">Driveability</span></span> <span style=\"padding: 2px; border-radius: 4px; border: 1px solid #d7ccc8; background: #3e2723\">а если нажмешь<span style=\"vertical-align: middle; margin-left: 2px; font-size: 0.7em; color: #a1887f;\">Other</span></span> <span style=\"padding: 2px; border-radius: 4px; border: 1px solid #bbdefb; background: #0d47a1\">кнопку турбо<span style=\"vertical-align: middle; margin-left: 2px; font-size: 0.7em; color: #64b5f6;\">Driveability</span></span> <span style=\"padding: 2px; border-radius: 4px; border: 1px solid #d7ccc8; background: #3e2723\">то еще быстрее .<span style=\"vertical-align: middle; margin-left: 2px; font-size: 0.7em; color: #a1887f;\">Other</span></span></div>"
      ],
      "text/plain": [
       "<IPython.core.display.HTML object>"
      ]
     },
     "metadata": {},
     "output_type": "display_data"
    },
    {
     "name": "stdout",
     "output_type": "stream",
     "text": [
      "предсказанные тэги:\n"
     ]
    },
    {
     "data": {
      "text/html": [
       "<div class=\"tex2jax_ignore\" style=\"white-space: pre-wrap\"><span style=\"padding: 2px; border-radius: 4px; border: 1px solid #bbdefb; background: #0d47a1\">Быстро набирает скорость а<span style=\"vertical-align: middle; margin-left: 2px; font-size: 0.7em; color: #64b5f6;\">Driveability</span></span> <span style=\"padding: 2px; border-radius: 4px; border: 1px solid #d7ccc8; background: #3e2723\">если<span style=\"vertical-align: middle; margin-left: 2px; font-size: 0.7em; color: #a1887f;\">Other</span></span> <span style=\"padding: 2px; border-radius: 4px; border: 1px solid #bbdefb; background: #0d47a1\">нажмешь кнопку турбо<span style=\"vertical-align: middle; margin-left: 2px; font-size: 0.7em; color: #64b5f6;\">Driveability</span></span> <span style=\"padding: 2px; border-radius: 4px; border: 1px solid #d7ccc8; background: #3e2723\">то еще быстрее .<span style=\"vertical-align: middle; margin-left: 2px; font-size: 0.7em; color: #a1887f;\">Other</span></span></div>"
      ],
      "text/plain": [
       "<IPython.core.display.HTML object>"
      ]
     },
     "metadata": {},
     "output_type": "display_data"
    },
    {
     "name": "stdout",
     "output_type": "stream",
     "text": [
      "\n",
      "истинные тэги:\n"
     ]
    },
    {
     "data": {
      "text/html": [
       "<div class=\"tex2jax_ignore\" style=\"white-space: pre-wrap\"><span style=\"padding: 2px; border-radius: 4px; border: 1px solid #d7ccc8; background: #3e2723\">После<span style=\"vertical-align: middle; margin-left: 2px; font-size: 0.7em; color: #a1887f;\">Other</span></span> <span style=\"padding: 2px; border-radius: 4px; border: 1px solid #c8e6c9; background: #1b5e20\">ремонта карбюратора двигатель<span style=\"vertical-align: middle; margin-left: 2px; font-size: 0.7em; color: #66bb6a;\">Reliability</span></span> <span style=\"padding: 2px; border-radius: 4px; border: 1px solid #d7ccc8; background: #3e2723\">начал работать как только что выпустили<span style=\"vertical-align: middle; margin-left: 2px; font-size: 0.7em; color: #a1887f;\">Other</span></span> <span style=\"padding: 2px; border-radius: 4px; border: 1px solid #c8e6c9; background: #1b5e20\">машину<span style=\"vertical-align: middle; margin-left: 2px; font-size: 0.7em; color: #66bb6a;\">Reliability</span></span> <span style=\"padding: 2px; border-radius: 4px; border: 1px solid #d7ccc8; background: #3e2723\">с конвеера .<span style=\"vertical-align: middle; margin-left: 2px; font-size: 0.7em; color: #a1887f;\">Other</span></span></div>"
      ],
      "text/plain": [
       "<IPython.core.display.HTML object>"
      ]
     },
     "metadata": {},
     "output_type": "display_data"
    },
    {
     "name": "stdout",
     "output_type": "stream",
     "text": [
      "предсказанные тэги:\n"
     ]
    },
    {
     "data": {
      "text/html": [
       "<div class=\"tex2jax_ignore\" style=\"white-space: pre-wrap\"><span style=\"padding: 2px; border-radius: 4px; border: 1px solid #d7ccc8; background: #3e2723\">После<span style=\"vertical-align: middle; margin-left: 2px; font-size: 0.7em; color: #a1887f;\">Other</span></span> <span style=\"padding: 2px; border-radius: 4px; border: 1px solid #c8e6c9; background: #1b5e20\">ремонта карбюратора двигатель<span style=\"vertical-align: middle; margin-left: 2px; font-size: 0.7em; color: #66bb6a;\">Reliability</span></span> <span style=\"padding: 2px; border-radius: 4px; border: 1px solid #ffcdd2; background: #b71c1c\">начал<span style=\"vertical-align: middle; margin-left: 2px; font-size: 0.7em; color: #e57373;\">Whole</span></span> <span style=\"padding: 2px; border-radius: 4px; border: 1px solid #ffcdd2; background: #b71c1c\">работать<span style=\"vertical-align: middle; margin-left: 2px; font-size: 0.7em; color: #e57373;\">Costs</span></span> <span style=\"padding: 2px; border-radius: 4px; border: 1px solid #d7ccc8; background: #3e2723\">как только что<span style=\"vertical-align: middle; margin-left: 2px; font-size: 0.7em; color: #a1887f;\">Other</span></span> <span style=\"padding: 2px; border-radius: 4px; border: 1px solid #ffcdd2; background: #b71c1c\">выпустили машину с конвеера<span style=\"vertical-align: middle; margin-left: 2px; font-size: 0.7em; color: #e57373;\">Whole</span></span> <span style=\"padding: 2px; border-radius: 4px; border: 1px solid #d7ccc8; background: #3e2723\">.<span style=\"vertical-align: middle; margin-left: 2px; font-size: 0.7em; color: #a1887f;\">Other</span></span></div>"
      ],
      "text/plain": [
       "<IPython.core.display.HTML object>"
      ]
     },
     "metadata": {},
     "output_type": "display_data"
    },
    {
     "name": "stdout",
     "output_type": "stream",
     "text": [
      "\n",
      "истинные тэги:\n"
     ]
    },
    {
     "data": {
      "text/html": [
       "<div class=\"tex2jax_ignore\" style=\"white-space: pre-wrap\"><span style=\"padding: 2px; border-radius: 4px; border: 1px solid #d7ccc8; background: #3e2723\">Китайский автопром уже превзошел отечественный по<span style=\"vertical-align: middle; margin-left: 2px; font-size: 0.7em; color: #a1887f;\">Other</span></span> <span style=\"padding: 2px; border-radius: 4px; border: 1px solid #bbdefb; background: #0d47a1\">ходовым характеристикам<span style=\"vertical-align: middle; margin-left: 2px; font-size: 0.7em; color: #64b5f6;\">Driveability</span></span> <span style=\"padding: 2px; border-radius: 4px; border: 1px solid #d7ccc8; background: #3e2723\">выпускаемых машин , осталось только<span style=\"vertical-align: middle; margin-left: 2px; font-size: 0.7em; color: #a1887f;\">Other</span></span> <span style=\"padding: 2px; border-radius: 4px; border: 1px solid #ffe0b2; background: #e65100\">эргономику<span style=\"vertical-align: middle; margin-left: 2px; font-size: 0.7em; color: #ffb74d;\">Comfort</span></span> <span style=\"padding: 2px; border-radius: 4px; border: 1px solid #d7ccc8; background: #3e2723\">подтянуть .<span style=\"vertical-align: middle; margin-left: 2px; font-size: 0.7em; color: #a1887f;\">Other</span></span></div>"
      ],
      "text/plain": [
       "<IPython.core.display.HTML object>"
      ]
     },
     "metadata": {},
     "output_type": "display_data"
    },
    {
     "name": "stdout",
     "output_type": "stream",
     "text": [
      "предсказанные тэги:\n"
     ]
    },
    {
     "data": {
      "text/html": [
       "<div class=\"tex2jax_ignore\" style=\"white-space: pre-wrap\"><span style=\"padding: 2px; border-radius: 4px; border: 1px solid #ffcdd2; background: #b71c1c\">Китайский автопром<span style=\"vertical-align: middle; margin-left: 2px; font-size: 0.7em; color: #e57373;\">Whole</span></span> <span style=\"padding: 2px; border-radius: 4px; border: 1px solid #d7ccc8; background: #3e2723\">уже<span style=\"vertical-align: middle; margin-left: 2px; font-size: 0.7em; color: #a1887f;\">Other</span></span> <span style=\"padding: 2px; border-radius: 4px; border: 1px solid #ffcdd2; background: #b71c1c\">превзошел отечественный<span style=\"vertical-align: middle; margin-left: 2px; font-size: 0.7em; color: #e57373;\">Whole</span></span> <span style=\"padding: 2px; border-radius: 4px; border: 1px solid #ffcdd2; background: #b71c1c\">по<span style=\"vertical-align: middle; margin-left: 2px; font-size: 0.7em; color: #e57373;\">Costs</span></span> <span style=\"padding: 2px; border-radius: 4px; border: 1px solid #bbdefb; background: #0d47a1\">ходовым характеристикам<span style=\"vertical-align: middle; margin-left: 2px; font-size: 0.7em; color: #64b5f6;\">Driveability</span></span> <span style=\"padding: 2px; border-radius: 4px; border: 1px solid #c8e6c9; background: #1b5e20\">выпускаемых<span style=\"vertical-align: middle; margin-left: 2px; font-size: 0.7em; color: #66bb6a;\">Reliability</span></span> <span style=\"padding: 2px; border-radius: 4px; border: 1px solid #ffcdd2; background: #b71c1c\">машин<span style=\"vertical-align: middle; margin-left: 2px; font-size: 0.7em; color: #e57373;\">Whole</span></span> <span style=\"padding: 2px; border-radius: 4px; border: 1px solid #d7ccc8; background: #3e2723\">, осталось<span style=\"vertical-align: middle; margin-left: 2px; font-size: 0.7em; color: #a1887f;\">Other</span></span> <span style=\"padding: 2px; border-radius: 4px; border: 1px solid #c8e6c9; background: #1b5e20\">только<span style=\"vertical-align: middle; margin-left: 2px; font-size: 0.7em; color: #66bb6a;\">Reliability</span></span> <span style=\"padding: 2px; border-radius: 4px; border: 1px solid #bbdefb; background: #0d47a1\">эргономику<span style=\"vertical-align: middle; margin-left: 2px; font-size: 0.7em; color: #64b5f6;\">Driveability</span></span> <span style=\"padding: 2px; border-radius: 4px; border: 1px solid #c8e6c9; background: #1b5e20\">подтянуть<span style=\"vertical-align: middle; margin-left: 2px; font-size: 0.7em; color: #66bb6a;\">Reliability</span></span> <span style=\"padding: 2px; border-radius: 4px; border: 1px solid #d7ccc8; background: #3e2723\">.<span style=\"vertical-align: middle; margin-left: 2px; font-size: 0.7em; color: #a1887f;\">Other</span></span></div>"
      ],
      "text/plain": [
       "<IPython.core.display.HTML object>"
      ]
     },
     "metadata": {},
     "output_type": "display_data"
    },
    {
     "name": "stdout",
     "output_type": "stream",
     "text": [
      "\n",
      "истинные тэги:\n"
     ]
    },
    {
     "data": {
      "text/html": [
       "<div class=\"tex2jax_ignore\" style=\"white-space: pre-wrap\"><span style=\"padding: 2px; border-radius: 4px; border: 1px solid #bbdefb; background: #0d47a1\">Ход плавный<span style=\"vertical-align: middle; margin-left: 2px; font-size: 0.7em; color: #64b5f6;\">Driveability</span></span> <span style=\"padding: 2px; border-radius: 4px; border: 1px solid #d7ccc8; background: #3e2723\">, машина<span style=\"vertical-align: middle; margin-left: 2px; font-size: 0.7em; color: #a1887f;\">Other</span></span> <span style=\"padding: 2px; border-radius: 4px; border: 1px solid #bbdefb; background: #0d47a1\">разгоняется<span style=\"vertical-align: middle; margin-left: 2px; font-size: 0.7em; color: #64b5f6;\">Driveability</span></span> <span style=\"padding: 2px; border-radius: 4px; border: 1px solid #d7ccc8; background: #3e2723\">без напрягов ,<span style=\"vertical-align: middle; margin-left: 2px; font-size: 0.7em; color: #a1887f;\">Other</span></span> <span style=\"padding: 2px; border-radius: 4px; border: 1px solid #bbdefb; background: #0d47a1\">тормозит<span style=\"vertical-align: middle; margin-left: 2px; font-size: 0.7em; color: #64b5f6;\">Driveability</span></span> <span style=\"padding: 2px; border-radius: 4px; border: 1px solid #d7ccc8; background: #3e2723\">, когда надо ,<span style=\"vertical-align: middle; margin-left: 2px; font-size: 0.7em; color: #a1887f;\">Other</span></span> <span style=\"padding: 2px; border-radius: 4px; border: 1px solid #c8e6c9; background: #1b5e20\">ничего не клинит<span style=\"vertical-align: middle; margin-left: 2px; font-size: 0.7em; color: #66bb6a;\">Reliability</span></span> <span style=\"padding: 2px; border-radius: 4px; border: 1px solid #d7ccc8; background: #3e2723\">,<span style=\"vertical-align: middle; margin-left: 2px; font-size: 0.7em; color: #a1887f;\">Other</span></span> <span style=\"padding: 2px; border-radius: 4px; border: 1px solid #ffe0b2; background: #e65100\">не скрипит<span style=\"vertical-align: middle; margin-left: 2px; font-size: 0.7em; color: #ffb74d;\">Comfort</span></span></div>"
      ],
      "text/plain": [
       "<IPython.core.display.HTML object>"
      ]
     },
     "metadata": {},
     "output_type": "display_data"
    },
    {
     "name": "stdout",
     "output_type": "stream",
     "text": [
      "предсказанные тэги:\n"
     ]
    },
    {
     "data": {
      "text/html": [
       "<div class=\"tex2jax_ignore\" style=\"white-space: pre-wrap\"><span style=\"padding: 2px; border-radius: 4px; border: 1px solid #d7ccc8; background: #3e2723\">Ход<span style=\"vertical-align: middle; margin-left: 2px; font-size: 0.7em; color: #a1887f;\">Other</span></span> <span style=\"padding: 2px; border-radius: 4px; border: 1px solid #bbdefb; background: #0d47a1\">плавный , машина разгоняется без напрягов , тормозит ,<span style=\"vertical-align: middle; margin-left: 2px; font-size: 0.7em; color: #64b5f6;\">Driveability</span></span> <span style=\"padding: 2px; border-radius: 4px; border: 1px solid #d7ccc8; background: #3e2723\">когда надо , ничего не<span style=\"vertical-align: middle; margin-left: 2px; font-size: 0.7em; color: #a1887f;\">Other</span></span> <span style=\"padding: 2px; border-radius: 4px; border: 1px solid #c8e6c9; background: #1b5e20\">клинит<span style=\"vertical-align: middle; margin-left: 2px; font-size: 0.7em; color: #66bb6a;\">Reliability</span></span> <span style=\"padding: 2px; border-radius: 4px; border: 1px solid #d7ccc8; background: #3e2723\">,<span style=\"vertical-align: middle; margin-left: 2px; font-size: 0.7em; color: #a1887f;\">Other</span></span> <span style=\"padding: 2px; border-radius: 4px; border: 1px solid #ffe0b2; background: #e65100\">не скрипит<span style=\"vertical-align: middle; margin-left: 2px; font-size: 0.7em; color: #ffb74d;\">Comfort</span></span></div>"
      ],
      "text/plain": [
       "<IPython.core.display.HTML object>"
      ]
     },
     "metadata": {},
     "output_type": "display_data"
    },
    {
     "name": "stdout",
     "output_type": "stream",
     "text": [
      "\n",
      "истинные тэги:\n"
     ]
    },
    {
     "data": {
      "text/html": [
       "<div class=\"tex2jax_ignore\" style=\"white-space: pre-wrap\"><span style=\"padding: 2px; border-radius: 4px; border: 1px solid #d7ccc8; background: #3e2723\">Честно сразу что мне не понравилось это<span style=\"vertical-align: middle; margin-left: 2px; font-size: 0.7em; color: #a1887f;\">Other</span></span> <span style=\"padding: 2px; border-radius: 4px; border: 1px solid #ffe0b2; background: #e65100\">маленький багажник<span style=\"vertical-align: middle; margin-left: 2px; font-size: 0.7em; color: #ffb74d;\">Comfort</span></span> <span style=\"padding: 2px; border-radius: 4px; border: 1px solid #d7ccc8; background: #3e2723\">,<span style=\"vertical-align: middle; margin-left: 2px; font-size: 0.7em; color: #a1887f;\">Other</span></span> <span style=\"padding: 2px; border-radius: 4px; border: 1px solid #ffe0b2; background: #e65100\">кресла не складывались<span style=\"vertical-align: middle; margin-left: 2px; font-size: 0.7em; color: #ffb74d;\">Comfort</span></span> <span style=\"padding: 2px; border-radius: 4px; border: 1px solid #d7ccc8; background: #3e2723\">, а мы с супругой любим путешествовать , это уже минус .<span style=\"vertical-align: middle; margin-left: 2px; font-size: 0.7em; color: #a1887f;\">Other</span></span></div>"
      ],
      "text/plain": [
       "<IPython.core.display.HTML object>"
      ]
     },
     "metadata": {},
     "output_type": "display_data"
    },
    {
     "name": "stdout",
     "output_type": "stream",
     "text": [
      "предсказанные тэги:\n"
     ]
    },
    {
     "data": {
      "text/html": [
       "<div class=\"tex2jax_ignore\" style=\"white-space: pre-wrap\"><span style=\"padding: 2px; border-radius: 4px; border: 1px solid #d7ccc8; background: #3e2723\">Честно сразу что мне не понравилось это<span style=\"vertical-align: middle; margin-left: 2px; font-size: 0.7em; color: #a1887f;\">Other</span></span> <span style=\"padding: 2px; border-radius: 4px; border: 1px solid #ffe0b2; background: #e65100\">маленький багажник<span style=\"vertical-align: middle; margin-left: 2px; font-size: 0.7em; color: #ffb74d;\">Comfort</span></span> <span style=\"padding: 2px; border-radius: 4px; border: 1px solid #d7ccc8; background: #3e2723\">,<span style=\"vertical-align: middle; margin-left: 2px; font-size: 0.7em; color: #a1887f;\">Other</span></span> <span style=\"padding: 2px; border-radius: 4px; border: 1px solid #ffe0b2; background: #e65100\">кресла<span style=\"vertical-align: middle; margin-left: 2px; font-size: 0.7em; color: #ffb74d;\">Comfort</span></span> <span style=\"padding: 2px; border-radius: 4px; border: 1px solid #d7ccc8; background: #3e2723\">не складывались , а мы с супругой любим путешествовать , это уже минус .<span style=\"vertical-align: middle; margin-left: 2px; font-size: 0.7em; color: #a1887f;\">Other</span></span></div>"
      ],
      "text/plain": [
       "<IPython.core.display.HTML object>"
      ]
     },
     "metadata": {},
     "output_type": "display_data"
    },
    {
     "name": "stdout",
     "output_type": "stream",
     "text": [
      "\n",
      "истинные тэги:\n"
     ]
    },
    {
     "data": {
      "text/html": [
       "<div class=\"tex2jax_ignore\" style=\"white-space: pre-wrap\"><span style=\"padding: 2px; border-radius: 4px; border: 1px solid #bbdefb; background: #0d47a1\">Бензин расходует<span style=\"vertical-align: middle; margin-left: 2px; font-size: 0.7em; color: #64b5f6;\">Driveability</span></span> <span style=\"padding: 2px; border-radius: 4px; border: 1px solid #d7ccc8; background: #3e2723\">не так много , что способствует<span style=\"vertical-align: middle; margin-left: 2px; font-size: 0.7em; color: #a1887f;\">Other</span></span> <span style=\"padding: 2px; border-radius: 4px; border: 1px solid #ffcdd2; background: #b71c1c\">экономии<span style=\"vertical-align: middle; margin-left: 2px; font-size: 0.7em; color: #e57373;\">Costs</span></span></div>"
      ],
      "text/plain": [
       "<IPython.core.display.HTML object>"
      ]
     },
     "metadata": {},
     "output_type": "display_data"
    },
    {
     "name": "stdout",
     "output_type": "stream",
     "text": [
      "предсказанные тэги:\n"
     ]
    },
    {
     "data": {
      "text/html": [
       "<div class=\"tex2jax_ignore\" style=\"white-space: pre-wrap\"><span style=\"padding: 2px; border-radius: 4px; border: 1px solid #bbdefb; background: #0d47a1\">Бензин расходует не<span style=\"vertical-align: middle; margin-left: 2px; font-size: 0.7em; color: #64b5f6;\">Driveability</span></span> <span style=\"padding: 2px; border-radius: 4px; border: 1px solid #d7ccc8; background: #3e2723\">так много , что способствует<span style=\"vertical-align: middle; margin-left: 2px; font-size: 0.7em; color: #a1887f;\">Other</span></span> <span style=\"padding: 2px; border-radius: 4px; border: 1px solid #ffcdd2; background: #b71c1c\">экономии<span style=\"vertical-align: middle; margin-left: 2px; font-size: 0.7em; color: #e57373;\">Costs</span></span></div>"
      ],
      "text/plain": [
       "<IPython.core.display.HTML object>"
      ]
     },
     "metadata": {},
     "output_type": "display_data"
    },
    {
     "name": "stdout",
     "output_type": "stream",
     "text": [
      "\n",
      "истинные тэги:\n"
     ]
    },
    {
     "data": {
      "text/html": [
       "<div class=\"tex2jax_ignore\" style=\"white-space: pre-wrap\"><span style=\"padding: 2px; border-radius: 4px; border: 1px solid #d7ccc8; background: #3e2723\">Ни разу серьезных<span style=\"vertical-align: middle; margin-left: 2px; font-size: 0.7em; color: #a1887f;\">Other</span></span> <span style=\"padding: 2px; border-radius: 4px; border: 1px solid #c8e6c9; background: #1b5e20\">поломок<span style=\"vertical-align: middle; margin-left: 2px; font-size: 0.7em; color: #66bb6a;\">Reliability</span></span> <span style=\"padding: 2px; border-radius: 4px; border: 1px solid #d7ccc8; background: #3e2723\">не было .<span style=\"vertical-align: middle; margin-left: 2px; font-size: 0.7em; color: #a1887f;\">Other</span></span></div>"
      ],
      "text/plain": [
       "<IPython.core.display.HTML object>"
      ]
     },
     "metadata": {},
     "output_type": "display_data"
    },
    {
     "name": "stdout",
     "output_type": "stream",
     "text": [
      "предсказанные тэги:\n"
     ]
    },
    {
     "data": {
      "text/html": [
       "<div class=\"tex2jax_ignore\" style=\"white-space: pre-wrap\"><span style=\"padding: 2px; border-radius: 4px; border: 1px solid #d7ccc8; background: #3e2723\">Ни разу<span style=\"vertical-align: middle; margin-left: 2px; font-size: 0.7em; color: #a1887f;\">Other</span></span> <span style=\"padding: 2px; border-radius: 4px; border: 1px solid #c8e6c9; background: #1b5e20\">серьезных поломок<span style=\"vertical-align: middle; margin-left: 2px; font-size: 0.7em; color: #66bb6a;\">Reliability</span></span> <span style=\"padding: 2px; border-radius: 4px; border: 1px solid #d7ccc8; background: #3e2723\">не было .<span style=\"vertical-align: middle; margin-left: 2px; font-size: 0.7em; color: #a1887f;\">Other</span></span></div>"
      ],
      "text/plain": [
       "<IPython.core.display.HTML object>"
      ]
     },
     "metadata": {},
     "output_type": "display_data"
    },
    {
     "name": "stdout",
     "output_type": "stream",
     "text": [
      "\n",
      "истинные тэги:\n"
     ]
    },
    {
     "data": {
      "text/html": [
       "<div class=\"tex2jax_ignore\" style=\"white-space: pre-wrap\"><span style=\"padding: 2px; border-radius: 4px; border: 1px solid #d7ccc8; background: #3e2723\">Разумеется не в присутствии<span style=\"vertical-align: middle; margin-left: 2px; font-size: 0.7em; color: #a1887f;\">Other</span></span> <span style=\"padding: 2px; border-radius: 4px; border: 1px solid #ffcdd2; background: #b71c1c\">аппарата на колесах<span style=\"vertical-align: middle; margin-left: 2px; font-size: 0.7em; color: #e57373;\">Whole</span></span> <span style=\"padding: 2px; border-radius: 4px; border: 1px solid #d7ccc8; background: #3e2723\">- ведь это плохая примета .<span style=\"vertical-align: middle; margin-left: 2px; font-size: 0.7em; color: #a1887f;\">Other</span></span></div>"
      ],
      "text/plain": [
       "<IPython.core.display.HTML object>"
      ]
     },
     "metadata": {},
     "output_type": "display_data"
    },
    {
     "name": "stdout",
     "output_type": "stream",
     "text": [
      "предсказанные тэги:\n"
     ]
    },
    {
     "data": {
      "text/html": [
       "<div class=\"tex2jax_ignore\" style=\"white-space: pre-wrap\"><span style=\"padding: 2px; border-radius: 4px; border: 1px solid #d7ccc8; background: #3e2723\">Разумеется не в присутствии<span style=\"vertical-align: middle; margin-left: 2px; font-size: 0.7em; color: #a1887f;\">Other</span></span> <span style=\"padding: 2px; border-radius: 4px; border: 1px solid #ffcdd2; background: #b71c1c\">аппарата<span style=\"vertical-align: middle; margin-left: 2px; font-size: 0.7em; color: #e57373;\">Whole</span></span> <span style=\"padding: 2px; border-radius: 4px; border: 1px solid #ffe0b2; background: #e65100\">на колесах<span style=\"vertical-align: middle; margin-left: 2px; font-size: 0.7em; color: #ffb74d;\">Comfort</span></span> <span style=\"padding: 2px; border-radius: 4px; border: 1px solid #d7ccc8; background: #3e2723\">- ведь это плохая примета .<span style=\"vertical-align: middle; margin-left: 2px; font-size: 0.7em; color: #a1887f;\">Other</span></span></div>"
      ],
      "text/plain": [
       "<IPython.core.display.HTML object>"
      ]
     },
     "metadata": {},
     "output_type": "display_data"
    },
    {
     "name": "stdout",
     "output_type": "stream",
     "text": [
      "\n",
      "истинные тэги:\n"
     ]
    },
    {
     "data": {
      "text/html": [
       "<div class=\"tex2jax_ignore\" style=\"white-space: pre-wrap\"><span style=\"padding: 2px; border-radius: 4px; border: 1px solid #d7ccc8; background: #3e2723\">Купил совсем новый<span style=\"vertical-align: middle; margin-left: 2px; font-size: 0.7em; color: #a1887f;\">Other</span></span> <span style=\"padding: 2px; border-radius: 4px; border: 1px solid #ffcdd2; background: #b71c1c\">автомобиль<span style=\"vertical-align: middle; margin-left: 2px; font-size: 0.7em; color: #e57373;\">Whole</span></span> <span style=\"padding: 2px; border-radius: 4px; border: 1px solid #d7ccc8; background: #3e2723\">с самого нуля .<span style=\"vertical-align: middle; margin-left: 2px; font-size: 0.7em; color: #a1887f;\">Other</span></span></div>"
      ],
      "text/plain": [
       "<IPython.core.display.HTML object>"
      ]
     },
     "metadata": {},
     "output_type": "display_data"
    },
    {
     "name": "stdout",
     "output_type": "stream",
     "text": [
      "предсказанные тэги:\n"
     ]
    },
    {
     "data": {
      "text/html": [
       "<div class=\"tex2jax_ignore\" style=\"white-space: pre-wrap\"><span style=\"padding: 2px; border-radius: 4px; border: 1px solid #d7ccc8; background: #3e2723\">Купил совсем новый<span style=\"vertical-align: middle; margin-left: 2px; font-size: 0.7em; color: #a1887f;\">Other</span></span> <span style=\"padding: 2px; border-radius: 4px; border: 1px solid #ffcdd2; background: #b71c1c\">автомобиль<span style=\"vertical-align: middle; margin-left: 2px; font-size: 0.7em; color: #e57373;\">Whole</span></span> <span style=\"padding: 2px; border-radius: 4px; border: 1px solid #d7ccc8; background: #3e2723\">с самого нуля .<span style=\"vertical-align: middle; margin-left: 2px; font-size: 0.7em; color: #a1887f;\">Other</span></span></div>"
      ],
      "text/plain": [
       "<IPython.core.display.HTML object>"
      ]
     },
     "metadata": {},
     "output_type": "display_data"
    },
    {
     "name": "stdout",
     "output_type": "stream",
     "text": [
      "\n",
      "истинные тэги:\n"
     ]
    },
    {
     "data": {
      "text/html": [
       "<div class=\"tex2jax_ignore\" style=\"white-space: pre-wrap\"><span style=\"padding: 2px; border-radius: 4px; border: 1px solid #d7ccc8; background: #3e2723\">Если собираетесь покупать<span style=\"vertical-align: middle; margin-left: 2px; font-size: 0.7em; color: #a1887f;\">Other</span></span> <span style=\"padding: 2px; border-radius: 4px; border: 1px solid #ffcdd2; background: #b71c1c\">б /у автомобиль<span style=\"vertical-align: middle; margin-left: 2px; font-size: 0.7em; color: #e57373;\">Whole</span></span> <span style=\"padding: 2px; border-radius: 4px; border: 1px solid #d7ccc8; background: #3e2723\">, для дачи , города , поездок , это этот вам точно подойдет .<span style=\"vertical-align: middle; margin-left: 2px; font-size: 0.7em; color: #a1887f;\">Other</span></span></div>"
      ],
      "text/plain": [
       "<IPython.core.display.HTML object>"
      ]
     },
     "metadata": {},
     "output_type": "display_data"
    },
    {
     "name": "stdout",
     "output_type": "stream",
     "text": [
      "предсказанные тэги:\n"
     ]
    },
    {
     "data": {
      "text/html": [
       "<div class=\"tex2jax_ignore\" style=\"white-space: pre-wrap\"><span style=\"padding: 2px; border-radius: 4px; border: 1px solid #d7ccc8; background: #3e2723\">Если собираетесь покупать б<span style=\"vertical-align: middle; margin-left: 2px; font-size: 0.7em; color: #a1887f;\">Other</span></span> <span style=\"padding: 2px; border-radius: 4px; border: 1px solid #ffcdd2; background: #b71c1c\">/у автомобиль ,<span style=\"vertical-align: middle; margin-left: 2px; font-size: 0.7em; color: #e57373;\">Whole</span></span> <span style=\"padding: 2px; border-radius: 4px; border: 1px solid #d7ccc8; background: #3e2723\">для дачи , города , поездок , это этот вам точно подойдет .<span style=\"vertical-align: middle; margin-left: 2px; font-size: 0.7em; color: #a1887f;\">Other</span></span></div>"
      ],
      "text/plain": [
       "<IPython.core.display.HTML object>"
      ]
     },
     "metadata": {},
     "output_type": "display_data"
    },
    {
     "name": "stdout",
     "output_type": "stream",
     "text": [
      "\n"
     ]
    }
   ],
   "source": [
    "for i in range(0,10):\n",
    "\n",
    "    recipe, tags = test_data[np.random.randint(0,1000)]\n",
    "    \n",
    "    tags_pred    = predict_tags(model, converter, recipe)\n",
    "\n",
    "    print('истинные тэги:')\n",
    "    text, spans = generate_markup(recipe, tags) \n",
    "    show_markup(text, spans)\n",
    "\n",
    "    print('предсказанные тэги:')\n",
    "    text, spans = generate_markup(recipe, tags_pred) \n",
    "\n",
    "    show_markup(text, spans)\n",
    "    print()"
   ]
  },
  {
   "cell_type": "markdown",
   "metadata": {},
   "source": [
    "### Статистика"
   ]
  },
  {
   "cell_type": "markdown",
   "metadata": {},
   "source": [
    "##### 1.  Количество верно предсказанных тэгов:"
   ]
  },
  {
   "cell_type": "code",
   "execution_count": 67,
   "metadata": {},
   "outputs": [],
   "source": [
    "from dlnlputils.sentiment_utils import tag_statistics"
   ]
  },
  {
   "cell_type": "code",
   "execution_count": 51,
   "metadata": {
    "collapsed": true
   },
   "outputs": [
    {
     "name": "stdout",
     "output_type": "stream",
     "text": [
      "Статистика верно предсказанных тэгов:\n",
      "\n",
      "для Other:\n",
      "  корректно:\t 15805\n",
      "      всего:\t 19922\n",
      "% корректно:\t 79.33440417628752\n",
      "\n",
      "для B-Whole:\n",
      "  корректно:\t 517\n",
      "      всего:\t 673\n",
      "% корректно:\t 76.82020802377416\n",
      "\n",
      "для B-Driveability:\n",
      "  корректно:\t 537\n",
      "      всего:\t 1066\n",
      "% корректно:\t 50.37523452157598\n",
      "\n",
      "для I-Driveability:\n",
      "  корректно:\t 310\n",
      "      всего:\t 711\n",
      "% корректно:\t 43.60056258790436\n",
      "\n",
      "для B-Appearance:\n",
      "  корректно:\t 155\n",
      "      всего:\t 275\n",
      "% корректно:\t 56.36363636363636\n",
      "\n",
      "для I-Appearance:\n",
      "  корректно:\t 32\n",
      "      всего:\t 100\n",
      "% корректно:\t 32.0\n",
      "\n",
      "для B-Reliability:\n",
      "  корректно:\t 296\n",
      "      всего:\t 809\n",
      "% корректно:\t 36.58838071693449\n",
      "\n",
      "для I-Whole:\n",
      "  корректно:\t 100\n",
      "      всего:\t 213\n",
      "% корректно:\t 46.948356807511736\n",
      "\n",
      "для B-Comfort:\n",
      "  корректно:\t 554\n",
      "      всего:\t 1067\n",
      "% корректно:\t 51.921274601686974\n",
      "\n",
      "для I-Comfort:\n",
      "  корректно:\t 212\n",
      "      всего:\t 497\n",
      "% корректно:\t 42.6559356136821\n",
      "\n",
      "для I-Reliability:\n",
      "  корректно:\t 184\n",
      "      всего:\t 475\n",
      "% корректно:\t 38.73684210526316\n",
      "\n",
      "для B-Costs:\n",
      "  корректно:\t 224\n",
      "      всего:\t 389\n",
      "% корректно:\t 57.58354755784062\n",
      "\n",
      "для I-Costs:\n",
      "  корректно:\t 35\n",
      "      всего:\t 127\n",
      "% корректно:\t 27.559055118110237\n",
      "\n",
      "для B-Safety:\n",
      "  корректно:\t 23\n",
      "      всего:\t 96\n",
      "% корректно:\t 23.958333333333336\n",
      "\n",
      "для I-Safety:\n",
      "  корректно:\t 9\n",
      "      всего:\t 71\n",
      "% корректно:\t 12.676056338028168\n",
      "\n",
      "----------\n",
      "в итоге:\n",
      "  корректно:\t 18993\n",
      "      всего:\t 26491\n",
      "% корректно:\t 71.69604771431807\n"
     ]
    }
   ],
   "source": [
    "total_correct, total_tags = tag_statistics(model, converter, test_data)\n",
    "\n",
    "\n",
    "print('Статистика верно предсказанных тэгов:\\n')\n",
    "\n",
    "for tag in total_tags.keys():\n",
    "    print('для {}:'.format(tag))\n",
    "    print('  корректно:\\t', total_correct[tag])\n",
    "    print('      всего:\\t',   total_tags[tag])\n",
    "    print('% корректно:\\t', 100 * (total_correct[tag] / float(total_tags[tag])))\n",
    "    print()\n",
    "\n",
    "print('----------')\n",
    "print('в итоге:')\n",
    "print('  корректно:\\t', sum(total_correct.values()))\n",
    "print('      всего:\\t', sum(total_tags.values()))\n",
    "print('% корректно:\\t', 100 * (sum(total_correct.values()) / sum(total_tags.values())))"
   ]
  },
  {
   "cell_type": "markdown",
   "metadata": {},
   "source": [
    "##### 2.  Количество верно предсказанных тэгов в виде матрицы ошибок:"
   ]
  },
  {
   "cell_type": "code",
   "execution_count": 71,
   "metadata": {},
   "outputs": [],
   "source": [
    "from dlnlputils.sentiment_utils import plot_confusion_matrix"
   ]
  },
  {
   "cell_type": "code",
   "execution_count": 72,
   "metadata": {},
   "outputs": [],
   "source": [
    "y_pred = []\n",
    "y_true = []\n",
    "\n",
    "for sentence, tags in test_data:\n",
    "    y_pred += predict_tags(model, converter, sentence)\n",
    "    y_true += tags"
   ]
  },
  {
   "cell_type": "code",
   "execution_count": 73,
   "metadata": {},
   "outputs": [
    {
     "ename": "TypeError",
     "evalue": "too many positional arguments",
     "output_type": "error",
     "traceback": [
      "\u001b[0;31m---------------------------------------------------------------------------\u001b[0m",
      "\u001b[0;31mTypeError\u001b[0m                                 Traceback (most recent call last)",
      "\u001b[1;32m/home/asus/aproj/aspect_sentiment_SentiRuEval-2015/aspect_sentiment_eval.ipynb Cell 66\u001b[0m line \u001b[0;36m1\n\u001b[0;32m----> <a href='vscode-notebook-cell:/home/asus/aproj/aspect_sentiment_SentiRuEval-2015/aspect_sentiment_eval.ipynb#Y122sZmlsZQ%3D%3D?line=0'>1</a>\u001b[0m plot_confusion_matrix(y_true, y_pred, classes\u001b[39m=\u001b[39;49m\u001b[39mlist\u001b[39;49m(total_tags\u001b[39m.\u001b[39;49mkeys()), \n\u001b[1;32m      <a href='vscode-notebook-cell:/home/asus/aproj/aspect_sentiment_SentiRuEval-2015/aspect_sentiment_eval.ipynb#Y122sZmlsZQ%3D%3D?line=1'>2</a>\u001b[0m                       title\u001b[39m=\u001b[39;49m\u001b[39m'\u001b[39;49m\u001b[39mМатрица ошибок\u001b[39;49m\u001b[39m'\u001b[39;49m)\n\u001b[1;32m      <a href='vscode-notebook-cell:/home/asus/aproj/aspect_sentiment_SentiRuEval-2015/aspect_sentiment_eval.ipynb#Y122sZmlsZQ%3D%3D?line=3'>4</a>\u001b[0m plt\u001b[39m.\u001b[39mshow()\n",
      "File \u001b[0;32m~/aproj/aspect_sentiment_SentiRuEval-2015/dlnlputils/sentiment_utils.py:321\u001b[0m, in \u001b[0;36mplot_confusion_matrix\u001b[0;34m(y_true, y_pred, classes, normalize, title, cmap)\u001b[0m\n\u001b[1;32m    319\u001b[0m \u001b[39mdef\u001b[39;00m \u001b[39mplot_confusion_matrix\u001b[39m(y_true, y_pred, classes, normalize\u001b[39m=\u001b[39m\u001b[39mFalse\u001b[39;00m, title\u001b[39m=\u001b[39m\u001b[39mNone\u001b[39;00m, cmap\u001b[39m=\u001b[39mplt\u001b[39m.\u001b[39mcm\u001b[39m.\u001b[39mBlues):\n\u001b[0;32m--> 321\u001b[0m     cm     \u001b[39m=\u001b[39m confusion_matrix(y_true, y_pred, classes)\n\u001b[1;32m    322\u001b[0m     \u001b[39mif\u001b[39;00m normalize:\n\u001b[1;32m    323\u001b[0m         cm \u001b[39m=\u001b[39m cm\u001b[39m.\u001b[39mastype(\u001b[39m'\u001b[39m\u001b[39mfloat\u001b[39m\u001b[39m'\u001b[39m) \u001b[39m/\u001b[39m cm\u001b[39m.\u001b[39msum(axis\u001b[39m=\u001b[39m\u001b[39m1\u001b[39m)[:, np\u001b[39m.\u001b[39mnewaxis]\n",
      "File \u001b[0;32m~/anaconda3/envs/pyver3.9/lib/python3.9/site-packages/sklearn/utils/_param_validation.py:189\u001b[0m, in \u001b[0;36mvalidate_params.<locals>.decorator.<locals>.wrapper\u001b[0;34m(*args, **kwargs)\u001b[0m\n\u001b[1;32m    186\u001b[0m func_sig \u001b[39m=\u001b[39m signature(func)\n\u001b[1;32m    188\u001b[0m \u001b[39m# Map *args/**kwargs to the function signature\u001b[39;00m\n\u001b[0;32m--> 189\u001b[0m params \u001b[39m=\u001b[39m func_sig\u001b[39m.\u001b[39;49mbind(\u001b[39m*\u001b[39;49margs, \u001b[39m*\u001b[39;49m\u001b[39m*\u001b[39;49mkwargs)\n\u001b[1;32m    190\u001b[0m params\u001b[39m.\u001b[39mapply_defaults()\n\u001b[1;32m    192\u001b[0m \u001b[39m# ignore self/cls and positional/keyword markers\u001b[39;00m\n",
      "File \u001b[0;32m~/anaconda3/envs/pyver3.9/lib/python3.9/inspect.py:3045\u001b[0m, in \u001b[0;36mSignature.bind\u001b[0;34m(self, *args, **kwargs)\u001b[0m\n\u001b[1;32m   3040\u001b[0m \u001b[39mdef\u001b[39;00m \u001b[39mbind\u001b[39m(\u001b[39mself\u001b[39m, \u001b[39m/\u001b[39m, \u001b[39m*\u001b[39margs, \u001b[39m*\u001b[39m\u001b[39m*\u001b[39mkwargs):\n\u001b[1;32m   3041\u001b[0m \u001b[39m    \u001b[39m\u001b[39m\"\"\"Get a BoundArguments object, that maps the passed `args`\u001b[39;00m\n\u001b[1;32m   3042\u001b[0m \u001b[39m    and `kwargs` to the function's signature.  Raises `TypeError`\u001b[39;00m\n\u001b[1;32m   3043\u001b[0m \u001b[39m    if the passed arguments can not be bound.\u001b[39;00m\n\u001b[1;32m   3044\u001b[0m \u001b[39m    \"\"\"\u001b[39;00m\n\u001b[0;32m-> 3045\u001b[0m     \u001b[39mreturn\u001b[39;00m \u001b[39mself\u001b[39;49m\u001b[39m.\u001b[39;49m_bind(args, kwargs)\n",
      "File \u001b[0;32m~/anaconda3/envs/pyver3.9/lib/python3.9/inspect.py:2971\u001b[0m, in \u001b[0;36mSignature._bind\u001b[0;34m(self, args, kwargs, partial)\u001b[0m\n\u001b[1;32m   2967\u001b[0m \u001b[39melse\u001b[39;00m:\n\u001b[1;32m   2968\u001b[0m     \u001b[39mif\u001b[39;00m param\u001b[39m.\u001b[39mkind \u001b[39min\u001b[39;00m (_VAR_KEYWORD, _KEYWORD_ONLY):\n\u001b[1;32m   2969\u001b[0m         \u001b[39m# Looks like we have no parameter for this positional\u001b[39;00m\n\u001b[1;32m   2970\u001b[0m         \u001b[39m# argument\u001b[39;00m\n\u001b[0;32m-> 2971\u001b[0m         \u001b[39mraise\u001b[39;00m \u001b[39mTypeError\u001b[39;00m(\n\u001b[1;32m   2972\u001b[0m             \u001b[39m'\u001b[39m\u001b[39mtoo many positional arguments\u001b[39m\u001b[39m'\u001b[39m) \u001b[39mfrom\u001b[39;00m \u001b[39mNone\u001b[39;00m\n\u001b[1;32m   2974\u001b[0m     \u001b[39mif\u001b[39;00m param\u001b[39m.\u001b[39mkind \u001b[39m==\u001b[39m _VAR_POSITIONAL:\n\u001b[1;32m   2975\u001b[0m         \u001b[39m# We have an '*args'-like argument, let's fill it with\u001b[39;00m\n\u001b[1;32m   2976\u001b[0m         \u001b[39m# all positional arguments we have left and move on to\u001b[39;00m\n\u001b[1;32m   2977\u001b[0m         \u001b[39m# the next phase\u001b[39;00m\n\u001b[1;32m   2978\u001b[0m         values \u001b[39m=\u001b[39m [arg_val]\n",
      "\u001b[0;31mTypeError\u001b[0m: too many positional arguments"
     ]
    }
   ],
   "source": [
    "plot_confusion_matrix(y_true, y_pred, classes=list(total_tags.keys()), \n",
    "                      title='Матрица ошибок')\n",
    "\n",
    "plt.show()"
   ]
  },
  {
   "cell_type": "code",
   "execution_count": 55,
   "metadata": {},
   "outputs": [
    {
     "ename": "TypeError",
     "evalue": "too many positional arguments",
     "output_type": "error",
     "traceback": [
      "\u001b[0;31m---------------------------------------------------------------------------\u001b[0m",
      "\u001b[0;31mTypeError\u001b[0m                                 Traceback (most recent call last)",
      "\u001b[1;32m/home/asus/aproj/aspect_sentiment_SentiRuEval-2015/aspect_sentiment_eval.ipynb Cell 67\u001b[0m line \u001b[0;36m1\n\u001b[0;32m----> <a href='vscode-notebook-cell:/home/asus/aproj/aspect_sentiment_SentiRuEval-2015/aspect_sentiment_eval.ipynb#Y123sZmlsZQ%3D%3D?line=0'>1</a>\u001b[0m plot_confusion_matrix(y_true, y_pred, classes\u001b[39m=\u001b[39;49m\u001b[39mlist\u001b[39;49m(total_tags\u001b[39m.\u001b[39;49mkeys()), normalize\u001b[39m=\u001b[39;49m\u001b[39mTrue\u001b[39;49;00m, \n\u001b[1;32m      <a href='vscode-notebook-cell:/home/asus/aproj/aspect_sentiment_SentiRuEval-2015/aspect_sentiment_eval.ipynb#Y123sZmlsZQ%3D%3D?line=1'>2</a>\u001b[0m                       title\u001b[39m=\u001b[39;49m\u001b[39m'\u001b[39;49m\u001b[39mНормализованная матрица ошибок\u001b[39;49m\u001b[39m'\u001b[39;49m)\n\u001b[1;32m      <a href='vscode-notebook-cell:/home/asus/aproj/aspect_sentiment_SentiRuEval-2015/aspect_sentiment_eval.ipynb#Y123sZmlsZQ%3D%3D?line=3'>4</a>\u001b[0m plt\u001b[39m.\u001b[39mshow()\n",
      "File \u001b[0;32m~/aproj/aspect_sentiment_SentiRuEval-2015/dlnlputils/sentiment_utils.py:321\u001b[0m, in \u001b[0;36mplot_confusion_matrix\u001b[0;34m(y_true, y_pred, classes, normalize, title, cmap)\u001b[0m\n\u001b[1;32m    319\u001b[0m \u001b[39mdef\u001b[39;00m \u001b[39mplot_confusion_matrix\u001b[39m(y_true, y_pred, classes, normalize\u001b[39m=\u001b[39m\u001b[39mFalse\u001b[39;00m, title\u001b[39m=\u001b[39m\u001b[39mNone\u001b[39;00m, cmap\u001b[39m=\u001b[39mplt\u001b[39m.\u001b[39mcm\u001b[39m.\u001b[39mBlues):\n\u001b[0;32m--> 321\u001b[0m     cm     \u001b[39m=\u001b[39m confusion_matrix(y_true, y_pred, classes)\n\u001b[1;32m    322\u001b[0m     \u001b[39mif\u001b[39;00m normalize:\n\u001b[1;32m    323\u001b[0m         cm \u001b[39m=\u001b[39m cm\u001b[39m.\u001b[39mastype(\u001b[39m'\u001b[39m\u001b[39mfloat\u001b[39m\u001b[39m'\u001b[39m) \u001b[39m/\u001b[39m cm\u001b[39m.\u001b[39msum(axis\u001b[39m=\u001b[39m\u001b[39m1\u001b[39m)[:, np\u001b[39m.\u001b[39mnewaxis]\n",
      "File \u001b[0;32m~/anaconda3/envs/pyver3.9/lib/python3.9/site-packages/sklearn/utils/_param_validation.py:189\u001b[0m, in \u001b[0;36mvalidate_params.<locals>.decorator.<locals>.wrapper\u001b[0;34m(*args, **kwargs)\u001b[0m\n\u001b[1;32m    186\u001b[0m func_sig \u001b[39m=\u001b[39m signature(func)\n\u001b[1;32m    188\u001b[0m \u001b[39m# Map *args/**kwargs to the function signature\u001b[39;00m\n\u001b[0;32m--> 189\u001b[0m params \u001b[39m=\u001b[39m func_sig\u001b[39m.\u001b[39;49mbind(\u001b[39m*\u001b[39;49margs, \u001b[39m*\u001b[39;49m\u001b[39m*\u001b[39;49mkwargs)\n\u001b[1;32m    190\u001b[0m params\u001b[39m.\u001b[39mapply_defaults()\n\u001b[1;32m    192\u001b[0m \u001b[39m# ignore self/cls and positional/keyword markers\u001b[39;00m\n",
      "File \u001b[0;32m~/anaconda3/envs/pyver3.9/lib/python3.9/inspect.py:3045\u001b[0m, in \u001b[0;36mSignature.bind\u001b[0;34m(self, *args, **kwargs)\u001b[0m\n\u001b[1;32m   3040\u001b[0m \u001b[39mdef\u001b[39;00m \u001b[39mbind\u001b[39m(\u001b[39mself\u001b[39m, \u001b[39m/\u001b[39m, \u001b[39m*\u001b[39margs, \u001b[39m*\u001b[39m\u001b[39m*\u001b[39mkwargs):\n\u001b[1;32m   3041\u001b[0m \u001b[39m    \u001b[39m\u001b[39m\"\"\"Get a BoundArguments object, that maps the passed `args`\u001b[39;00m\n\u001b[1;32m   3042\u001b[0m \u001b[39m    and `kwargs` to the function's signature.  Raises `TypeError`\u001b[39;00m\n\u001b[1;32m   3043\u001b[0m \u001b[39m    if the passed arguments can not be bound.\u001b[39;00m\n\u001b[1;32m   3044\u001b[0m \u001b[39m    \"\"\"\u001b[39;00m\n\u001b[0;32m-> 3045\u001b[0m     \u001b[39mreturn\u001b[39;00m \u001b[39mself\u001b[39;49m\u001b[39m.\u001b[39;49m_bind(args, kwargs)\n",
      "File \u001b[0;32m~/anaconda3/envs/pyver3.9/lib/python3.9/inspect.py:2971\u001b[0m, in \u001b[0;36mSignature._bind\u001b[0;34m(self, args, kwargs, partial)\u001b[0m\n\u001b[1;32m   2967\u001b[0m \u001b[39melse\u001b[39;00m:\n\u001b[1;32m   2968\u001b[0m     \u001b[39mif\u001b[39;00m param\u001b[39m.\u001b[39mkind \u001b[39min\u001b[39;00m (_VAR_KEYWORD, _KEYWORD_ONLY):\n\u001b[1;32m   2969\u001b[0m         \u001b[39m# Looks like we have no parameter for this positional\u001b[39;00m\n\u001b[1;32m   2970\u001b[0m         \u001b[39m# argument\u001b[39;00m\n\u001b[0;32m-> 2971\u001b[0m         \u001b[39mraise\u001b[39;00m \u001b[39mTypeError\u001b[39;00m(\n\u001b[1;32m   2972\u001b[0m             \u001b[39m'\u001b[39m\u001b[39mtoo many positional arguments\u001b[39m\u001b[39m'\u001b[39m) \u001b[39mfrom\u001b[39;00m \u001b[39mNone\u001b[39;00m\n\u001b[1;32m   2974\u001b[0m     \u001b[39mif\u001b[39;00m param\u001b[39m.\u001b[39mkind \u001b[39m==\u001b[39m _VAR_POSITIONAL:\n\u001b[1;32m   2975\u001b[0m         \u001b[39m# We have an '*args'-like argument, let's fill it with\u001b[39;00m\n\u001b[1;32m   2976\u001b[0m         \u001b[39m# all positional arguments we have left and move on to\u001b[39;00m\n\u001b[1;32m   2977\u001b[0m         \u001b[39m# the next phase\u001b[39;00m\n\u001b[1;32m   2978\u001b[0m         values \u001b[39m=\u001b[39m [arg_val]\n",
      "\u001b[0;31mTypeError\u001b[0m: too many positional arguments"
     ]
    }
   ],
   "source": [
    "plot_confusion_matrix(y_true, y_pred, classes=list(total_tags.keys()), normalize=True, \n",
    "                      title='Нормализованная матрица ошибок')\n",
    "\n",
    "plt.show()"
   ]
  },
  {
   "cell_type": "code",
   "execution_count": null,
   "metadata": {},
   "outputs": [],
   "source": []
  }
 ],
 "metadata": {
  "kernelspec": {
   "display_name": "Python 3",
   "language": "python",
   "name": "python3"
  },
  "language_info": {
   "codemirror_mode": {
    "name": "ipython",
    "version": 3
   },
   "file_extension": ".py",
   "mimetype": "text/x-python",
   "name": "python",
   "nbconvert_exporter": "python",
   "pygments_lexer": "ipython3",
   "version": "3.9.18"
  }
 },
 "nbformat": 4,
 "nbformat_minor": 2
}
